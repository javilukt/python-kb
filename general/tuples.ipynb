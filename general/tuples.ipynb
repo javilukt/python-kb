{
 "cells": [
  {
   "cell_type": "code",
   "execution_count": 1,
   "id": "303200b2",
   "metadata": {},
   "outputs": [
    {
     "data": {
      "text/html": [
       "<style>\n",
       "    table {margin-left: 0 !important;}\n",
       "    h1 {border: 2px solid; background: grey; padding: 10px 5px 5px 5px; color: white !important;}\n",
       "    h2 {border: 2px solid; background: #ddd; padding: 10px 5px 5px 5px; color: orange !important;}\n",
       "    h3 {border: 2px solid; background: blue; padding: 10px 5px 5px 5px; color: orange !important;}\n",
       "        \n",
       "</style>\n"
      ],
      "text/plain": [
       "<IPython.core.display.HTML object>"
      ]
     },
     "metadata": {},
     "output_type": "display_data"
    }
   ],
   "source": [
    "%%html\n",
    "<style>\n",
    "    table {margin-left: 0 !important;}\n",
    "    h1 {border: 2px solid; background: grey; padding: 10px 5px 5px 5px; color: white !important;}\n",
    "    h2 {border: 2px solid; background: #ddd; padding: 10px 5px 5px 5px; color: orange !important;}\n",
    "    h3 {border: 2px solid; background: blue; padding: 10px 5px 5px 5px; color: orange !important;}\n",
    "        \n",
    "</style>"
   ]
  },
  {
   "cell_type": "markdown",
   "id": "daa4cd93",
   "metadata": {},
   "source": [
    "# TUPLES"
   ]
  },
  {
   "cell_type": "markdown",
   "id": "cd8a5c62",
   "metadata": {},
   "source": [
    "**Tuples** are used to store multiple items in a single variable.\n",
    "\n",
    "**Features**:\n",
    "- [x] Ordered\n",
    "- [ ] Changeable\n",
    "- [x] Allow duplicate values\n",
    "- [ ] Homogeneous\n",
    "\n",
    "**Indexes** are always a sequence of positive int numbers starting on 0.\n",
    "\n",
    "**Values** \n"
   ]
  },
  {
   "cell_type": "markdown",
   "id": "059ffa9b",
   "metadata": {},
   "source": [
    "## 1 Construction"
   ]
  },
  {
   "cell_type": "markdown",
   "id": "55931792",
   "metadata": {},
   "source": [
    "### 1.1 Empty tuple construction"
   ]
  },
  {
   "cell_type": "markdown",
   "id": "3d066d21",
   "metadata": {},
   "source": [
    "**tpl_0 construction (empty)**"
   ]
  },
  {
   "cell_type": "code",
   "execution_count": 2,
   "id": "54774446",
   "metadata": {},
   "outputs": [
    {
     "data": {
      "text/plain": [
       "()"
      ]
     },
     "execution_count": 2,
     "metadata": {},
     "output_type": "execute_result"
    }
   ],
   "source": [
    "tpl_0 = ()\n",
    "tpl_0"
   ]
  },
  {
   "cell_type": "markdown",
   "id": "c28f4161",
   "metadata": {},
   "source": [
    "or"
   ]
  },
  {
   "cell_type": "code",
   "execution_count": 3,
   "id": "c7d27ebb",
   "metadata": {},
   "outputs": [
    {
     "data": {
      "text/plain": [
       "()"
      ]
     },
     "execution_count": 3,
     "metadata": {},
     "output_type": "execute_result"
    }
   ],
   "source": [
    "tpl_0 = tuple()\n",
    "tpl_0"
   ]
  },
  {
   "cell_type": "markdown",
   "id": "49dd9716",
   "metadata": {},
   "source": [
    "### 1.2 One elemento tuple"
   ]
  },
  {
   "cell_type": "code",
   "execution_count": 4,
   "id": "c3968d33",
   "metadata": {},
   "outputs": [
    {
     "data": {
      "text/plain": [
       "1"
      ]
     },
     "execution_count": 4,
     "metadata": {},
     "output_type": "execute_result"
    }
   ],
   "source": [
    "tpl_1 = (1)  # it is an integer\n",
    "tpl_1"
   ]
  },
  {
   "cell_type": "code",
   "execution_count": 5,
   "id": "283390b1",
   "metadata": {},
   "outputs": [
    {
     "data": {
      "text/plain": [
       "(1,)"
      ]
     },
     "execution_count": 5,
     "metadata": {},
     "output_type": "execute_result"
    }
   ],
   "source": [
    "tpl_1 = (1,) # it is an one element tuple\n",
    "tpl_1"
   ]
  },
  {
   "cell_type": "markdown",
   "id": "45ce59f5",
   "metadata": {},
   "source": [
    "### 1.2 Heterogeneous tuple construction"
   ]
  },
  {
   "cell_type": "markdown",
   "id": "031b6f8c",
   "metadata": {},
   "source": [
    "**tpl_2**\n",
    "\n",
    "|  index | values |\n",
    "|--------|:------:|\n",
    "| 0      | 'a'    |\n",
    "| 1      | 'one'  |\n",
    "| 2      | 1      |\n",
    "| 3      | True   |\n",
    "| 4      | 3.5    |"
   ]
  },
  {
   "cell_type": "code",
   "execution_count": 6,
   "id": "6b438e41",
   "metadata": {},
   "outputs": [
    {
     "data": {
      "text/plain": [
       "('a', 'one', 1, True, 3.5)"
      ]
     },
     "execution_count": 6,
     "metadata": {},
     "output_type": "execute_result"
    }
   ],
   "source": [
    "tpl_2 = ('a', 'one', 1, True, 3.5)\n",
    "tpl_2"
   ]
  },
  {
   "cell_type": "markdown",
   "id": "92c3e670",
   "metadata": {},
   "source": [
    "Or based on a tuple oder any iterable"
   ]
  },
  {
   "cell_type": "code",
   "execution_count": 7,
   "id": "0c1144c5",
   "metadata": {},
   "outputs": [
    {
     "data": {
      "text/plain": [
       "('a', 'one', 1, True, 3.5)"
      ]
     },
     "execution_count": 7,
     "metadata": {},
     "output_type": "execute_result"
    }
   ],
   "source": [
    "tpl_2 = tuple(['a', 'one', 1, True, 3.5])\n",
    "tpl_2"
   ]
  },
  {
   "cell_type": "markdown",
   "id": "6ce74cf2",
   "metadata": {},
   "source": [
    "### 1.3 Nested tuple"
   ]
  },
  {
   "cell_type": "markdown",
   "id": "e2fc63ec",
   "metadata": {},
   "source": [
    "An element of a list could be another list\n",
    "\n",
    "**tpl_2_1**: tuple to be referred in another tuple\n",
    "\n",
    "|  index | values |\n",
    "|--------|:------:|\n",
    "| 0      | True   |\n",
    "| 1      | False  |\n",
    "\n",
    "**tpl_2_2**: tuple as a tuple element\n",
    "\n",
    "|  index | values  |\n",
    "|--------|:-------:|\n",
    "| 0      | 'a'     |\n",
    "| 1      | lst_1_1 |\n"
   ]
  },
  {
   "cell_type": "code",
   "execution_count": 8,
   "id": "4d0f9709",
   "metadata": {},
   "outputs": [
    {
     "data": {
      "text/plain": [
       "(True, False)"
      ]
     },
     "execution_count": 8,
     "metadata": {},
     "output_type": "execute_result"
    }
   ],
   "source": [
    "tpl_2_1 = (True, False)\n",
    "tpl_2_1"
   ]
  },
  {
   "cell_type": "code",
   "execution_count": 9,
   "id": "30d2d3d7",
   "metadata": {},
   "outputs": [
    {
     "data": {
      "text/plain": [
       "('a', (True, False))"
      ]
     },
     "execution_count": 9,
     "metadata": {},
     "output_type": "execute_result"
    }
   ],
   "source": [
    "tpl_2_2 = ('a', tpl_2_1)\n",
    "tpl_2_2"
   ]
  },
  {
   "cell_type": "markdown",
   "id": "2abfab55",
   "metadata": {},
   "source": [
    "### 1.4 Utilities"
   ]
  },
  {
   "cell_type": "markdown",
   "id": "11e53821",
   "metadata": {},
   "source": [
    "**Type**"
   ]
  },
  {
   "cell_type": "code",
   "execution_count": 10,
   "id": "37bcf560",
   "metadata": {
    "scrolled": true
   },
   "outputs": [
    {
     "data": {
      "text/plain": [
       "tuple"
      ]
     },
     "execution_count": 10,
     "metadata": {},
     "output_type": "execute_result"
    }
   ],
   "source": [
    "type(tpl_0)"
   ]
  },
  {
   "cell_type": "markdown",
   "id": "ec53b587",
   "metadata": {},
   "source": [
    "**Number of elements**"
   ]
  },
  {
   "cell_type": "code",
   "execution_count": 11,
   "id": "2ff4ff56",
   "metadata": {
    "scrolled": true
   },
   "outputs": [
    {
     "data": {
      "text/plain": [
       "5"
      ]
     },
     "execution_count": 11,
     "metadata": {},
     "output_type": "execute_result"
    }
   ],
   "source": [
    "len(tpl_2)"
   ]
  },
  {
   "cell_type": "markdown",
   "id": "19cdeeef",
   "metadata": {},
   "source": [
    "**Count**\n",
    "\n",
    "Counts the frequency of an element in the tuple"
   ]
  },
  {
   "cell_type": "code",
   "execution_count": 12,
   "id": "38c5a92c",
   "metadata": {
    "scrolled": true
   },
   "outputs": [
    {
     "data": {
      "text/plain": [
       "2"
      ]
     },
     "execution_count": 12,
     "metadata": {},
     "output_type": "execute_result"
    }
   ],
   "source": [
    "tpl_2.count(True)"
   ]
  },
  {
   "cell_type": "code",
   "execution_count": 13,
   "id": "7c9c97f0",
   "metadata": {
    "scrolled": true
   },
   "outputs": [
    {
     "data": {
      "text/plain": [
       "0"
      ]
     },
     "execution_count": 13,
     "metadata": {},
     "output_type": "execute_result"
    }
   ],
   "source": [
    "tpl_2_2.count(True)"
   ]
  },
  {
   "cell_type": "markdown",
   "id": "426f76a8",
   "metadata": {},
   "source": [
    "## 2 Element(s) access - slicing"
   ]
  },
  {
   "cell_type": "markdown",
   "id": "8a2719b6",
   "metadata": {},
   "source": [
    "**tpl_3**\n",
    "\n",
    "|  index | values |\n",
    "|--------|:------:|\n",
    "| 0      | 'a'    |\n",
    "| 1      | 'b'    |\n",
    "| 2      | 'c'    |\n",
    "| 3      | 'd'    |\n",
    "| 4      | 'e'    |"
   ]
  },
  {
   "cell_type": "code",
   "execution_count": 14,
   "id": "2a07e663",
   "metadata": {},
   "outputs": [
    {
     "data": {
      "text/plain": [
       "('a', 'b', 'c', 'd', 'e')"
      ]
     },
     "execution_count": 14,
     "metadata": {},
     "output_type": "execute_result"
    }
   ],
   "source": [
    "tpl_3 = ('a', 'b', 'c', 'd', 'e')\n",
    "tpl_3"
   ]
  },
  {
   "cell_type": "markdown",
   "id": "4933c2ba",
   "metadata": {},
   "source": [
    "### 2.1 Individual element"
   ]
  },
  {
   "cell_type": "markdown",
   "id": "77a6e7d7",
   "metadata": {},
   "source": [
    "**1st element**"
   ]
  },
  {
   "cell_type": "code",
   "execution_count": 15,
   "id": "62d542da",
   "metadata": {},
   "outputs": [
    {
     "data": {
      "text/plain": [
       "'a'"
      ]
     },
     "execution_count": 15,
     "metadata": {},
     "output_type": "execute_result"
    }
   ],
   "source": [
    "tpl_3[0]"
   ]
  },
  {
   "cell_type": "markdown",
   "id": "8a9ccddf",
   "metadata": {},
   "source": [
    "**3rd element**"
   ]
  },
  {
   "cell_type": "code",
   "execution_count": 16,
   "id": "591f8f1b",
   "metadata": {},
   "outputs": [
    {
     "data": {
      "text/plain": [
       "'c'"
      ]
     },
     "execution_count": 16,
     "metadata": {},
     "output_type": "execute_result"
    }
   ],
   "source": [
    "tpl_3[2]"
   ]
  },
  {
   "cell_type": "markdown",
   "id": "66a98b89",
   "metadata": {},
   "source": [
    "**Last element**"
   ]
  },
  {
   "cell_type": "code",
   "execution_count": 17,
   "id": "67b99379",
   "metadata": {},
   "outputs": [
    {
     "data": {
      "text/plain": [
       "'e'"
      ]
     },
     "execution_count": 17,
     "metadata": {},
     "output_type": "execute_result"
    }
   ],
   "source": [
    "tpl_3[-1]"
   ]
  },
  {
   "cell_type": "markdown",
   "id": "cb13ef58",
   "metadata": {},
   "source": [
    "**2nd last element**"
   ]
  },
  {
   "cell_type": "code",
   "execution_count": 18,
   "id": "808699bd",
   "metadata": {},
   "outputs": [
    {
     "data": {
      "text/plain": [
       "'d'"
      ]
     },
     "execution_count": 18,
     "metadata": {},
     "output_type": "execute_result"
    }
   ],
   "source": [
    "tpl_3[-2]"
   ]
  },
  {
   "cell_type": "markdown",
   "id": "2d108d44",
   "metadata": {},
   "source": [
    "**Index of the 1st element with a value**"
   ]
  },
  {
   "cell_type": "code",
   "execution_count": 19,
   "id": "be224896",
   "metadata": {},
   "outputs": [
    {
     "data": {
      "text/plain": [
       "1"
      ]
     },
     "execution_count": 19,
     "metadata": {},
     "output_type": "execute_result"
    }
   ],
   "source": [
    "tpl_3.index('b')"
   ]
  },
  {
   "cell_type": "markdown",
   "id": "51459073",
   "metadata": {},
   "source": [
    "### 2.2 Group of elements - slicing"
   ]
  },
  {
   "cell_type": "markdown",
   "id": "6febb108",
   "metadata": {},
   "source": [
    "**1st 3 elements**"
   ]
  },
  {
   "cell_type": "code",
   "execution_count": 20,
   "id": "6fff8f37",
   "metadata": {},
   "outputs": [
    {
     "data": {
      "text/plain": [
       "('a', 'b', 'c')"
      ]
     },
     "execution_count": 20,
     "metadata": {},
     "output_type": "execute_result"
    }
   ],
   "source": [
    "tpl_3[0:3]"
   ]
  },
  {
   "cell_type": "code",
   "execution_count": 21,
   "id": "216de219",
   "metadata": {},
   "outputs": [
    {
     "data": {
      "text/plain": [
       "('a', 'b', 'c')"
      ]
     },
     "execution_count": 21,
     "metadata": {},
     "output_type": "execute_result"
    }
   ],
   "source": [
    "tpl_3[:3]"
   ]
  },
  {
   "cell_type": "markdown",
   "id": "e6bc3dd1",
   "metadata": {},
   "source": [
    "**Last 3 elements**"
   ]
  },
  {
   "cell_type": "code",
   "execution_count": 22,
   "id": "7a2d015d",
   "metadata": {},
   "outputs": [
    {
     "data": {
      "text/plain": [
       "('c', 'd', 'e')"
      ]
     },
     "execution_count": 22,
     "metadata": {},
     "output_type": "execute_result"
    }
   ],
   "source": [
    "tpl_3[2:5]"
   ]
  },
  {
   "cell_type": "code",
   "execution_count": 23,
   "id": "6b570d6f",
   "metadata": {},
   "outputs": [
    {
     "data": {
      "text/plain": [
       "('c', 'd', 'e')"
      ]
     },
     "execution_count": 23,
     "metadata": {},
     "output_type": "execute_result"
    }
   ],
   "source": [
    "tpl_3[2:]"
   ]
  },
  {
   "cell_type": "code",
   "execution_count": 24,
   "id": "e022cce3",
   "metadata": {},
   "outputs": [
    {
     "data": {
      "text/plain": [
       "('c', 'd', 'e')"
      ]
     },
     "execution_count": 24,
     "metadata": {},
     "output_type": "execute_result"
    }
   ],
   "source": [
    "tpl_3[-3:]"
   ]
  },
  {
   "cell_type": "markdown",
   "id": "8c883370",
   "metadata": {},
   "source": [
    "**Elements 1 to 3**"
   ]
  },
  {
   "cell_type": "code",
   "execution_count": 25,
   "id": "8bd190d4",
   "metadata": {},
   "outputs": [
    {
     "data": {
      "text/plain": [
       "('b', 'c', 'd')"
      ]
     },
     "execution_count": 25,
     "metadata": {},
     "output_type": "execute_result"
    }
   ],
   "source": [
    "tpl_3[1:4]"
   ]
  },
  {
   "cell_type": "markdown",
   "id": "2aeadb94",
   "metadata": {},
   "source": [
    "## 3 Element(s) change"
   ]
  },
  {
   "cell_type": "markdown",
   "id": "e6be924b",
   "metadata": {},
   "source": [
    "**tpl_4**\n",
    "\n",
    "|  index | values |\n",
    "|--------|:------:|\n",
    "| 0      | 'a'    |\n",
    "| 1      | 'b'    |\n",
    "| 2      | 'c'    |\n",
    "| 3      | 'd'    |\n",
    "| 4      | 'e'    |"
   ]
  },
  {
   "cell_type": "code",
   "execution_count": 26,
   "id": "ebbe3639",
   "metadata": {},
   "outputs": [
    {
     "data": {
      "text/plain": [
       "('a', 'b', 'c', 'd', 'e')"
      ]
     },
     "execution_count": 26,
     "metadata": {},
     "output_type": "execute_result"
    }
   ],
   "source": [
    "tpl_4 = ('a', 'b', 'c', 'd', 'e')\n",
    "tpl_4"
   ]
  },
  {
   "cell_type": "markdown",
   "id": "79a3bb02",
   "metadata": {},
   "source": [
    "### 3.1 Work around"
   ]
  },
  {
   "cell_type": "markdown",
   "id": "d6451fbf",
   "metadata": {},
   "source": [
    "Tuple are not changeable, but it is possible to find a work around in order to chande values\n",
    "\n",
    "**3rd element**"
   ]
  },
  {
   "cell_type": "code",
   "execution_count": 27,
   "id": "d268e838",
   "metadata": {},
   "outputs": [
    {
     "data": {
      "text/plain": [
       "('a', 'b', 'C', 'd', 'e')"
      ]
     },
     "execution_count": 27,
     "metadata": {},
     "output_type": "execute_result"
    }
   ],
   "source": [
    "aux_list = list(tpl_4)\n",
    "aux_list[2] = 'C'\n",
    "tpl_4 = tuple(aux_list)\n",
    "tpl_4"
   ]
  },
  {
   "cell_type": "markdown",
   "id": "993b4c91",
   "metadata": {},
   "source": [
    "## 4 Add and delete element(s)"
   ]
  },
  {
   "cell_type": "markdown",
   "id": "944db6e0",
   "metadata": {},
   "source": [
    "**tpl_5**\n",
    "\n",
    "|  index | values |\n",
    "|--------|:------:|\n",
    "| 0      | 'a'    |\n",
    "| 1      | 'a'    |\n",
    "| 2      | 'a'    |\n",
    "| 3      | 'a'    |\n",
    "| 4      | 'a'    |"
   ]
  },
  {
   "cell_type": "code",
   "execution_count": 28,
   "id": "1a6536a7",
   "metadata": {
    "scrolled": true
   },
   "outputs": [
    {
     "data": {
      "text/plain": [
       "('a', 'a', 'a', 'a', 'a')"
      ]
     },
     "execution_count": 28,
     "metadata": {},
     "output_type": "execute_result"
    }
   ],
   "source": [
    "tpl_5 = ('a', 'a', 'a', 'a', 'a')\n",
    "tpl_5"
   ]
  },
  {
   "cell_type": "markdown",
   "id": "6deaab08",
   "metadata": {},
   "source": [
    "### 4.1Concatenate: only possible to add a tuple to a tuple"
   ]
  },
  {
   "cell_type": "markdown",
   "id": "54fc368b",
   "metadata": {},
   "source": [
    "**Add an 'A' at the end of tpl_5**"
   ]
  },
  {
   "cell_type": "code",
   "execution_count": 29,
   "id": "ae6b48bc",
   "metadata": {},
   "outputs": [
    {
     "data": {
      "text/plain": [
       "('a', 'a', 'a', 'a', 'a', 'A')"
      ]
     },
     "execution_count": 29,
     "metadata": {},
     "output_type": "execute_result"
    }
   ],
   "source": [
    "tpl_5 = tpl_5 + ('A',)\n",
    "tpl_5"
   ]
  },
  {
   "cell_type": "markdown",
   "id": "fef9ad83",
   "metadata": {},
   "source": [
    "**Add 2 'B's at the end of the new tpl_5**"
   ]
  },
  {
   "cell_type": "code",
   "execution_count": 30,
   "id": "58c57042",
   "metadata": {},
   "outputs": [
    {
     "data": {
      "text/plain": [
       "('a', 'a', 'a', 'a', 'a', 'A', 'B', 'B')"
      ]
     },
     "execution_count": 30,
     "metadata": {},
     "output_type": "execute_result"
    }
   ],
   "source": [
    "tpl_5 = tpl_5 + ('B','B')\n",
    "tpl_5"
   ]
  },
  {
   "cell_type": "markdown",
   "id": "43f77cdd",
   "metadata": {},
   "source": [
    "### 4.2 Deleting elements: work around"
   ]
  },
  {
   "cell_type": "markdown",
   "id": "bba075f3",
   "metadata": {},
   "source": [
    "**Delete first 'B' element**"
   ]
  },
  {
   "cell_type": "code",
   "execution_count": 31,
   "id": "5948c0e3",
   "metadata": {},
   "outputs": [
    {
     "data": {
      "text/plain": [
       "('a', 'a', 'a', 'a', 'a', 'A', 'B')"
      ]
     },
     "execution_count": 31,
     "metadata": {},
     "output_type": "execute_result"
    }
   ],
   "source": [
    "aux_list = list(tpl_5)\n",
    "aux_list.remove('B')\n",
    "tpl_5 = tuple(aux_list)\n",
    "tpl_5"
   ]
  },
  {
   "cell_type": "markdown",
   "id": "82606cbb",
   "metadata": {},
   "source": [
    "**Delete last element**"
   ]
  },
  {
   "cell_type": "code",
   "execution_count": 32,
   "id": "938b4a67",
   "metadata": {},
   "outputs": [
    {
     "data": {
      "text/plain": [
       "('a', 'a', 'a', 'a', 'a', 'A')"
      ]
     },
     "execution_count": 32,
     "metadata": {},
     "output_type": "execute_result"
    }
   ],
   "source": [
    "aux_list = list(tpl_5)\n",
    "aux_list.pop()\n",
    "tpl_5 = tuple(aux_list)\n",
    "tpl_5"
   ]
  },
  {
   "cell_type": "markdown",
   "id": "9d9ee45e",
   "metadata": {},
   "source": [
    "### 4.3 Deleting tuples"
   ]
  },
  {
   "cell_type": "markdown",
   "id": "fa7f6e31",
   "metadata": {},
   "source": [
    "**Tupla does not exist any more**"
   ]
  },
  {
   "cell_type": "code",
   "execution_count": 33,
   "id": "c268e959",
   "metadata": {},
   "outputs": [],
   "source": [
    "del tpl_5"
   ]
  },
  {
   "cell_type": "markdown",
   "id": "bc8f80fd",
   "metadata": {},
   "source": [
    "## 5 Tuples concatenation"
   ]
  },
  {
   "cell_type": "markdown",
   "id": "ee3d4b49",
   "metadata": {},
   "source": [
    "**tpl_6_1**\n",
    "\n",
    "|  index | values |\n",
    "|--------|:------:|\n",
    "| 0      | 'a'    |\n",
    "| 1      | 'a'    |\n",
    "\n",
    "**tpl_6_2**\n",
    "\n",
    "|  index | values |\n",
    "|--------|:------:|\n",
    "| 0      | 'b'    |\n",
    "| 1      | 'b'    |\n",
    "| 2      | 'b'    |"
   ]
  },
  {
   "cell_type": "code",
   "execution_count": 34,
   "id": "f0342bcf",
   "metadata": {
    "scrolled": true
   },
   "outputs": [
    {
     "data": {
      "text/plain": [
       "('a', 'a')"
      ]
     },
     "execution_count": 34,
     "metadata": {},
     "output_type": "execute_result"
    }
   ],
   "source": [
    "tpl_6_1 = ('a', 'a')\n",
    "tpl_6_1"
   ]
  },
  {
   "cell_type": "code",
   "execution_count": 35,
   "id": "9f36b269",
   "metadata": {
    "scrolled": true
   },
   "outputs": [
    {
     "data": {
      "text/plain": [
       "('b', 'b', 'b')"
      ]
     },
     "execution_count": 35,
     "metadata": {},
     "output_type": "execute_result"
    }
   ],
   "source": [
    "tpl_6_2 = ('b', 'b', 'b')\n",
    "tpl_6_2"
   ]
  },
  {
   "cell_type": "code",
   "execution_count": 36,
   "id": "1fa7d8d8",
   "metadata": {},
   "outputs": [
    {
     "data": {
      "text/plain": [
       "('a', 'a', 'b', 'b', 'b')"
      ]
     },
     "execution_count": 36,
     "metadata": {},
     "output_type": "execute_result"
    }
   ],
   "source": [
    "tpl_6_1 + tpl_6_2"
   ]
  },
  {
   "cell_type": "code",
   "execution_count": 37,
   "id": "2d906078",
   "metadata": {},
   "outputs": [
    {
     "data": {
      "text/plain": [
       "('a', 'a')"
      ]
     },
     "execution_count": 37,
     "metadata": {},
     "output_type": "execute_result"
    }
   ],
   "source": [
    "tpl_6_1"
   ]
  },
  {
   "cell_type": "code",
   "execution_count": 38,
   "id": "5ff4bbd9",
   "metadata": {},
   "outputs": [
    {
     "data": {
      "text/plain": [
       "('a', 'a', 'b', 'b', 'b')"
      ]
     },
     "execution_count": 38,
     "metadata": {},
     "output_type": "execute_result"
    }
   ],
   "source": [
    "tpl_6_1 = tpl_6_1 + tpl_6_2\n",
    "tpl_6_1"
   ]
  },
  {
   "cell_type": "code",
   "execution_count": 39,
   "id": "accce564",
   "metadata": {},
   "outputs": [
    {
     "data": {
      "text/plain": [
       "('a', 'a', 'b', 'b', 'b', 'a', 'a', 'b', 'b', 'b')"
      ]
     },
     "execution_count": 39,
     "metadata": {},
     "output_type": "execute_result"
    }
   ],
   "source": [
    "tpl_6_1 * 2"
   ]
  },
  {
   "cell_type": "code",
   "execution_count": 40,
   "id": "e9f8b7ea",
   "metadata": {},
   "outputs": [
    {
     "data": {
      "text/plain": [
       "('a', 'a', 'b', 'b', 'b')"
      ]
     },
     "execution_count": 40,
     "metadata": {},
     "output_type": "execute_result"
    }
   ],
   "source": [
    "tpl_6_1"
   ]
  },
  {
   "cell_type": "code",
   "execution_count": 41,
   "id": "5021de0c",
   "metadata": {},
   "outputs": [
    {
     "data": {
      "text/plain": [
       "('a', 'a', 'b', 'b', 'b', 'a', 'a', 'b', 'b', 'b')"
      ]
     },
     "execution_count": 41,
     "metadata": {},
     "output_type": "execute_result"
    }
   ],
   "source": [
    "tpl_6_1 = tpl_6_1 * 2\n",
    "tpl_6_1"
   ]
  },
  {
   "cell_type": "markdown",
   "id": "14f74cdc",
   "metadata": {},
   "source": [
    "## 6 Unpack tuples\n"
   ]
  },
  {
   "cell_type": "markdown",
   "id": "0d82f462",
   "metadata": {},
   "source": [
    "**tpl_7**\n",
    "\n",
    "|  index | values |\n",
    "|--------|:------:|\n",
    "| 0      | 'a'    |\n",
    "| 1      | 'b'    |\n",
    "| 1      | 'c'    |\n",
    "| 1      | 'd'    |\n",
    "| 1      | 'e'    |"
   ]
  },
  {
   "cell_type": "code",
   "execution_count": 42,
   "id": "18a430ba",
   "metadata": {},
   "outputs": [
    {
     "data": {
      "text/plain": [
       "('a', 'b', 'c', 'd', 'e')"
      ]
     },
     "execution_count": 42,
     "metadata": {},
     "output_type": "execute_result"
    }
   ],
   "source": [
    "tpl_7 = ('a', 'b', 'c', 'd', 'e')\n",
    "tpl_7"
   ]
  },
  {
   "cell_type": "code",
   "execution_count": 43,
   "id": "7b5d752d",
   "metadata": {},
   "outputs": [
    {
     "name": "stdout",
     "output_type": "stream",
     "text": [
      "a\n",
      "b\n",
      "c\n",
      "d\n",
      "e\n"
     ]
    }
   ],
   "source": [
    "# number of original and final tuple are the same \n",
    "(first, second, third, fourth, fifth) = tpl_7\n",
    "print(first)\n",
    "print(second)\n",
    "print(third)\n",
    "print(fourth)\n",
    "print(fifth)"
   ]
  },
  {
   "cell_type": "code",
   "execution_count": 44,
   "id": "cea32dbd",
   "metadata": {},
   "outputs": [
    {
     "name": "stdout",
     "output_type": "stream",
     "text": [
      "a\n",
      "['b', 'c', 'd']\n",
      "e\n"
     ]
    }
   ],
   "source": [
    "# number of original and final tuple are NOT the same\n",
    "(head, *middle, tail) = tpl_7\n",
    "print(head)\n",
    "print(middle)\n",
    "print(tail)"
   ]
  }
 ],
 "metadata": {
  "kernelspec": {
   "display_name": "Python 3",
   "language": "python",
   "name": "python3"
  },
  "language_info": {
   "codemirror_mode": {
    "name": "ipython",
    "version": 3
   },
   "file_extension": ".py",
   "mimetype": "text/x-python",
   "name": "python",
   "nbconvert_exporter": "python",
   "pygments_lexer": "ipython3",
   "version": "3.8.8"
  }
 },
 "nbformat": 4,
 "nbformat_minor": 5
}
