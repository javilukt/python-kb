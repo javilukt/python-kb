{
 "cells": [
  {
   "cell_type": "code",
   "execution_count": 1,
   "id": "303200b2",
   "metadata": {},
   "outputs": [
    {
     "data": {
      "text/html": [
       "<style>\n",
       "    table {margin-left: 0 !important;}\n",
       "    h1 {border: 2px solid; background: grey; padding: 10px 5px 5px 5px; color: white !important;}\n",
       "    h2 {border: 2px solid; background: #ddd; padding: 10px 5px 5px 5px; color: orange !important;}\n",
       "    h3 {border: 2px solid; background: blue; padding: 10px 5px 5px 5px; color: orange !important;}\n",
       "        \n",
       "</style>\n"
      ],
      "text/plain": [
       "<IPython.core.display.HTML object>"
      ]
     },
     "metadata": {},
     "output_type": "display_data"
    }
   ],
   "source": [
    "%%html\n",
    "<style>\n",
    "    table {margin-left: 0 !important;}\n",
    "    h1 {border: 2px solid; background: grey; padding: 10px 5px 5px 5px; color: white !important;}\n",
    "    h2 {border: 2px solid; background: #ddd; padding: 10px 5px 5px 5px; color: orange !important;}\n",
    "    h3 {border: 2px solid; background: blue; padding: 10px 5px 5px 5px; color: orange !important;}\n",
    "        \n",
    "</style>"
   ]
  },
  {
   "cell_type": "markdown",
   "id": "daa4cd93",
   "metadata": {},
   "source": [
    "# SETS"
   ]
  },
  {
   "cell_type": "markdown",
   "id": "cd8a5c62",
   "metadata": {},
   "source": [
    "**Lists** are used to store multiple items in a single variable.\n",
    "\n",
    "**Features**:\n",
    "- [ ] Ordered\n",
    "- [x] Changeable\n",
    "- [ ] Allow duplicate values\n",
    "- [ ] Homogeneous\n",
    "\n",
    "**Indexes** there is not any.\n",
    "\n",
    "**Values** \n"
   ]
  },
  {
   "cell_type": "markdown",
   "id": "059ffa9b",
   "metadata": {},
   "source": [
    "## 1 Construction"
   ]
  },
  {
   "cell_type": "markdown",
   "id": "55931792",
   "metadata": {},
   "source": [
    "### 1.1 Empty set construction"
   ]
  },
  {
   "cell_type": "markdown",
   "id": "3d066d21",
   "metadata": {},
   "source": [
    "**st_0 construction (empty)**"
   ]
  },
  {
   "cell_type": "code",
   "execution_count": 2,
   "id": "c7d27ebb",
   "metadata": {},
   "outputs": [
    {
     "data": {
      "text/plain": [
       "set()"
      ]
     },
     "execution_count": 2,
     "metadata": {},
     "output_type": "execute_result"
    }
   ],
   "source": [
    "st_0 = set()\n",
    "st_0"
   ]
  },
  {
   "cell_type": "markdown",
   "id": "45ce59f5",
   "metadata": {},
   "source": [
    "### 1.2 Heterogeneous set construction"
   ]
  },
  {
   "cell_type": "markdown",
   "id": "031b6f8c",
   "metadata": {},
   "source": [
    "Take care!! True is the same as 1 in any form (1, 1.0, ...) and False as 0 in any form (0, 0.0, ...)\n",
    "**st_1**\n",
    "\n",
    "| values |\n",
    "|:------:|\n",
    "| 'a'    |\n",
    "| 'one'  |\n",
    "| 1      |\n",
    "| True   |\n",
    "| 3.5    |"
   ]
  },
  {
   "cell_type": "code",
   "execution_count": 3,
   "id": "6b438e41",
   "metadata": {},
   "outputs": [
    {
     "data": {
      "text/plain": [
       "{1, 3.5, 'a', 'one'}"
      ]
     },
     "execution_count": 3,
     "metadata": {},
     "output_type": "execute_result"
    }
   ],
   "source": [
    "st_1 = {'a', 'one', 1, True, 3.5}\n",
    "st_1"
   ]
  },
  {
   "cell_type": "markdown",
   "id": "92c3e670",
   "metadata": {},
   "source": [
    "Or based on a tuple or any iterable"
   ]
  },
  {
   "cell_type": "code",
   "execution_count": 4,
   "id": "0c1144c5",
   "metadata": {},
   "outputs": [
    {
     "data": {
      "text/plain": [
       "{1, 3.5, 'a', 'one'}"
      ]
     },
     "execution_count": 4,
     "metadata": {},
     "output_type": "execute_result"
    }
   ],
   "source": [
    "st_1 = set(('a', 'one', 1, True, 3.5))\n",
    "st_1"
   ]
  },
  {
   "cell_type": "markdown",
   "id": "6ce74cf2",
   "metadata": {},
   "source": [
    "### 1.3 Nested sets; not possible. Sets can have only hashable elements inside"
   ]
  },
  {
   "cell_type": "markdown",
   "id": "e2fc63ec",
   "metadata": {},
   "source": [
    "An element of a list could be another list\n",
    "\n",
    "**tpl_1_1**: tuple to be referred in the set\n",
    "\n",
    "| index | values |\n",
    "|------ |:------:|\n",
    "| 0     | True   |\n",
    "| 1     | False  |\n",
    "\n",
    "**st_1_2**: set with tuple inside\n",
    "\n",
    "| values  |\n",
    "|:-------:|\n",
    "| 'a'     |\n",
    "| lst_1_1 |\n"
   ]
  },
  {
   "cell_type": "code",
   "execution_count": 5,
   "id": "4d0f9709",
   "metadata": {},
   "outputs": [
    {
     "data": {
      "text/plain": [
       "(True, False)"
      ]
     },
     "execution_count": 5,
     "metadata": {},
     "output_type": "execute_result"
    }
   ],
   "source": [
    "tpl_1_1 = (True, False)\n",
    "tpl_1_1"
   ]
  },
  {
   "cell_type": "code",
   "execution_count": 6,
   "id": "30d2d3d7",
   "metadata": {},
   "outputs": [
    {
     "data": {
      "text/plain": [
       "{(True, False), 'a'}"
      ]
     },
     "execution_count": 6,
     "metadata": {},
     "output_type": "execute_result"
    }
   ],
   "source": [
    "st_1_2 = {'a', tpl_1_1}\n",
    "st_1_2"
   ]
  },
  {
   "cell_type": "markdown",
   "id": "2abfab55",
   "metadata": {},
   "source": [
    "### 1.4 Utilities"
   ]
  },
  {
   "cell_type": "markdown",
   "id": "11e53821",
   "metadata": {},
   "source": [
    "**Type**"
   ]
  },
  {
   "cell_type": "code",
   "execution_count": 7,
   "id": "37bcf560",
   "metadata": {
    "scrolled": true
   },
   "outputs": [
    {
     "data": {
      "text/plain": [
       "set"
      ]
     },
     "execution_count": 7,
     "metadata": {},
     "output_type": "execute_result"
    }
   ],
   "source": [
    "type(st_0)"
   ]
  },
  {
   "cell_type": "markdown",
   "id": "ec53b587",
   "metadata": {},
   "source": [
    "**Number of elements**"
   ]
  },
  {
   "cell_type": "code",
   "execution_count": 8,
   "id": "2ff4ff56",
   "metadata": {
    "scrolled": true
   },
   "outputs": [
    {
     "data": {
      "text/plain": [
       "4"
      ]
     },
     "execution_count": 8,
     "metadata": {},
     "output_type": "execute_result"
    }
   ],
   "source": [
    "len(st_1)"
   ]
  },
  {
   "cell_type": "markdown",
   "id": "05bc06d1",
   "metadata": {},
   "source": [
    "**Copy**"
   ]
  },
  {
   "cell_type": "code",
   "execution_count": 9,
   "id": "b9ae4b52",
   "metadata": {
    "scrolled": true
   },
   "outputs": [
    {
     "data": {
      "text/plain": [
       "{1, 3.5, 'a', 'one'}"
      ]
     },
     "execution_count": 9,
     "metadata": {},
     "output_type": "execute_result"
    }
   ],
   "source": [
    "result = st_1.copy()\n",
    "result"
   ]
  },
  {
   "cell_type": "markdown",
   "id": "426f76a8",
   "metadata": {},
   "source": [
    "## Element(s) access "
   ]
  },
  {
   "cell_type": "markdown",
   "id": "8a2719b6",
   "metadata": {},
   "source": [
    "**st_2**\n",
    "\n",
    "| values |\n",
    "|:------:|\n",
    "| 'a'    |\n",
    "| 'e'    |\n",
    "| 'c'    |\n",
    "| 'd'    |\n",
    "| 'b'    |"
   ]
  },
  {
   "cell_type": "code",
   "execution_count": 10,
   "id": "2a07e663",
   "metadata": {},
   "outputs": [
    {
     "data": {
      "text/plain": [
       "{'a', 'b', 'c', 'd', 'e'}"
      ]
     },
     "execution_count": 10,
     "metadata": {},
     "output_type": "execute_result"
    }
   ],
   "source": [
    "st_2 = {'a', 'e', 'c', 'd', 'b'}\n",
    "st_2"
   ]
  },
  {
   "cell_type": "markdown",
   "id": "4933c2ba",
   "metadata": {},
   "source": [
    "### 2.1 Is an element in a set?"
   ]
  },
  {
   "cell_type": "code",
   "execution_count": 11,
   "id": "62d542da",
   "metadata": {},
   "outputs": [
    {
     "data": {
      "text/plain": [
       "True"
      ]
     },
     "execution_count": 11,
     "metadata": {},
     "output_type": "execute_result"
    }
   ],
   "source": [
    "'a' in st_2"
   ]
  },
  {
   "cell_type": "code",
   "execution_count": 12,
   "id": "591f8f1b",
   "metadata": {},
   "outputs": [
    {
     "data": {
      "text/plain": [
       "False"
      ]
     },
     "execution_count": 12,
     "metadata": {},
     "output_type": "execute_result"
    }
   ],
   "source": [
    "'f' in st_2"
   ]
  },
  {
   "cell_type": "markdown",
   "id": "57dea633",
   "metadata": {},
   "source": [
    "### 2.1 Are any of some elements in a set?"
   ]
  },
  {
   "cell_type": "code",
   "execution_count": 13,
   "id": "e4e15f01",
   "metadata": {},
   "outputs": [
    {
     "data": {
      "text/plain": [
       "'a'"
      ]
     },
     "execution_count": 13,
     "metadata": {},
     "output_type": "execute_result"
    }
   ],
   "source": [
    "'a' or 'b' in st_2"
   ]
  },
  {
   "cell_type": "code",
   "execution_count": 14,
   "id": "ce4be647",
   "metadata": {},
   "outputs": [
    {
     "data": {
      "text/plain": [
       "True"
      ]
     },
     "execution_count": 14,
     "metadata": {},
     "output_type": "execute_result"
    }
   ],
   "source": [
    "'a' and 'b' in st_2"
   ]
  },
  {
   "cell_type": "code",
   "execution_count": 15,
   "id": "56676132",
   "metadata": {},
   "outputs": [
    {
     "data": {
      "text/plain": [
       "False"
      ]
     },
     "execution_count": 15,
     "metadata": {},
     "output_type": "execute_result"
    }
   ],
   "source": [
    "'a' and 'f' in st_2"
   ]
  },
  {
   "cell_type": "markdown",
   "id": "2aeadb94",
   "metadata": {},
   "source": [
    "## 3 Element(s) change"
   ]
  },
  {
   "cell_type": "markdown",
   "id": "e6be924b",
   "metadata": {},
   "source": [
    "**Not possible**\n",
    "\n",
    "See workaround based on add and delete combined optioons"
   ]
  },
  {
   "cell_type": "markdown",
   "id": "993b4c91",
   "metadata": {},
   "source": [
    "## 4 Add and delete element(s)"
   ]
  },
  {
   "cell_type": "markdown",
   "id": "944db6e0",
   "metadata": {},
   "source": [
    "**st_3**\n",
    "\n",
    "Values: 'b', 'c', 'a', 'a', 'f'\n",
    "Result\n",
    "| result |\n",
    "|:------:|\n",
    "| 'a'    |\n",
    "| 'b'    |\n",
    "| 'c'    |\n",
    "| 'f'    |"
   ]
  },
  {
   "cell_type": "code",
   "execution_count": 16,
   "id": "1a6536a7",
   "metadata": {
    "scrolled": true
   },
   "outputs": [
    {
     "data": {
      "text/plain": [
       "{'a', 'b', 'c', 'f'}"
      ]
     },
     "execution_count": 16,
     "metadata": {},
     "output_type": "execute_result"
    }
   ],
   "source": [
    "st_3 = {'b', 'c', 'a', 'a', 'f'}\n",
    "st_3"
   ]
  },
  {
   "cell_type": "markdown",
   "id": "6deaab08",
   "metadata": {},
   "source": [
    "### 4.1 Adding elements"
   ]
  },
  {
   "cell_type": "markdown",
   "id": "54fc368b",
   "metadata": {},
   "source": [
    "**Add an 'e'**"
   ]
  },
  {
   "cell_type": "code",
   "execution_count": 17,
   "id": "ae6b48bc",
   "metadata": {},
   "outputs": [
    {
     "data": {
      "text/plain": [
       "{'a', 'b', 'c', 'e', 'f'}"
      ]
     },
     "execution_count": 17,
     "metadata": {},
     "output_type": "execute_result"
    }
   ],
   "source": [
    "st_3.add('e')\n",
    "st_3"
   ]
  },
  {
   "cell_type": "markdown",
   "id": "fef9ad83",
   "metadata": {},
   "source": [
    "**Add an 'B'**"
   ]
  },
  {
   "cell_type": "code",
   "execution_count": 18,
   "id": "58c57042",
   "metadata": {},
   "outputs": [
    {
     "data": {
      "text/plain": [
       "{'B', 'a', 'b', 'c', 'e', 'f'}"
      ]
     },
     "execution_count": 18,
     "metadata": {},
     "output_type": "execute_result"
    }
   ],
   "source": [
    "st_3.add('B')\n",
    "st_3"
   ]
  },
  {
   "cell_type": "markdown",
   "id": "43f77cdd",
   "metadata": {},
   "source": [
    "### 4.2 Deleting elements"
   ]
  },
  {
   "cell_type": "markdown",
   "id": "bba075f3",
   "metadata": {},
   "source": [
    "**Delete the element 'b'**"
   ]
  },
  {
   "cell_type": "code",
   "execution_count": 19,
   "id": "0287c110",
   "metadata": {},
   "outputs": [
    {
     "data": {
      "text/plain": [
       "{'B', 'a', 'b', 'c', 'e', 'f'}"
      ]
     },
     "execution_count": 19,
     "metadata": {},
     "output_type": "execute_result"
    }
   ],
   "source": [
    "st_3"
   ]
  },
  {
   "cell_type": "markdown",
   "id": "d4864713",
   "metadata": {},
   "source": [
    "- remove() method will raise an error if the specified item does not exist\n",
    "- discard() method will not."
   ]
  },
  {
   "cell_type": "code",
   "execution_count": 20,
   "id": "89b7d787",
   "metadata": {},
   "outputs": [
    {
     "data": {
      "text/plain": [
       "{'B', 'b', 'c', 'e', 'f'}"
      ]
     },
     "execution_count": 20,
     "metadata": {},
     "output_type": "execute_result"
    }
   ],
   "source": [
    "st_3.remove('a')\n",
    "st_3"
   ]
  },
  {
   "cell_type": "code",
   "execution_count": 21,
   "id": "69c634ce",
   "metadata": {},
   "outputs": [
    {
     "ename": "KeyError",
     "evalue": "'ooo'",
     "output_type": "error",
     "traceback": [
      "\u001b[0;31m---------------------------------------------------------------------------\u001b[0m",
      "\u001b[0;31mKeyError\u001b[0m                                  Traceback (most recent call last)",
      "\u001b[0;32m<ipython-input-21-6acebb559178>\u001b[0m in \u001b[0;36m<module>\u001b[0;34m\u001b[0m\n\u001b[0;32m----> 1\u001b[0;31m \u001b[0mst_3\u001b[0m\u001b[0;34m.\u001b[0m\u001b[0mremove\u001b[0m\u001b[0;34m(\u001b[0m\u001b[0;34m'ooo'\u001b[0m\u001b[0;34m)\u001b[0m\u001b[0;34m\u001b[0m\u001b[0;34m\u001b[0m\u001b[0m\n\u001b[0m",
      "\u001b[0;31mKeyError\u001b[0m: 'ooo'"
     ]
    }
   ],
   "source": [
    "st_3.remove('ooo')"
   ]
  },
  {
   "cell_type": "code",
   "execution_count": null,
   "id": "5948c0e3",
   "metadata": {},
   "outputs": [],
   "source": [
    "st_3.discard('b')\n",
    "st_3"
   ]
  },
  {
   "cell_type": "code",
   "execution_count": null,
   "id": "e9ca48c5",
   "metadata": {},
   "outputs": [],
   "source": [
    "st_3.discard('ooo')\n",
    "st_3"
   ]
  },
  {
   "cell_type": "markdown",
   "id": "82606cbb",
   "metadata": {},
   "source": [
    "**Delete a random element**"
   ]
  },
  {
   "cell_type": "code",
   "execution_count": null,
   "id": "938b4a67",
   "metadata": {},
   "outputs": [],
   "source": [
    "st_3.pop()"
   ]
  },
  {
   "cell_type": "code",
   "execution_count": null,
   "id": "4f839f7c",
   "metadata": {},
   "outputs": [],
   "source": [
    "st_3"
   ]
  },
  {
   "cell_type": "markdown",
   "id": "9d9ee45e",
   "metadata": {},
   "source": [
    "### 4.3 Deleting sets"
   ]
  },
  {
   "cell_type": "markdown",
   "id": "fa7f6e31",
   "metadata": {},
   "source": [
    "**Diference between clear and del**\n",
    "- clear: set empty\n",
    "- del: set does not exist anymore"
   ]
  },
  {
   "cell_type": "code",
   "execution_count": null,
   "id": "061dbba0",
   "metadata": {},
   "outputs": [],
   "source": [
    "st_3.clear()\n",
    "st_3"
   ]
  },
  {
   "cell_type": "code",
   "execution_count": null,
   "id": "c268e959",
   "metadata": {},
   "outputs": [],
   "source": [
    "del st_3"
   ]
  },
  {
   "cell_type": "markdown",
   "id": "bc8f80fd",
   "metadata": {},
   "source": [
    "## 5 AQUIIIII Sets operations"
   ]
  },
  {
   "cell_type": "markdown",
   "id": "ee3d4b49",
   "metadata": {},
   "source": [
    "**st_4_1**\n",
    "\n",
    "| values |\n",
    "|:------:|\n",
    "| 'a'    |\n",
    "| 'b'    |\n",
    "| 'c'    |\n",
    "| 'd'    |\n",
    "\n",
    "**st_4_2**\n",
    "\n",
    "\n",
    "| values |\n",
    "|:------:|\n",
    "| 'a'    |\n",
    "| 'd'    |\n",
    "| 'e'    |\n",
    "| 'f'    |"
   ]
  },
  {
   "cell_type": "code",
   "execution_count": null,
   "id": "f0342bcf",
   "metadata": {
    "scrolled": true
   },
   "outputs": [],
   "source": [
    "st_4_1 = {'a', 'b', 'c', 'd'}\n",
    "st_4_1"
   ]
  },
  {
   "cell_type": "code",
   "execution_count": null,
   "id": "9f36b269",
   "metadata": {
    "scrolled": true
   },
   "outputs": [],
   "source": [
    "st_4_2 = {'a', 'd', 'e', 'f'}\n",
    "st_4_2"
   ]
  },
  {
   "cell_type": "markdown",
   "id": "2ae64756",
   "metadata": {},
   "source": [
    "### Diference (no conmutative)"
   ]
  },
  {
   "cell_type": "markdown",
   "id": "67bddba7",
   "metadata": {},
   "source": [
    "**Diference between a set and another**"
   ]
  },
  {
   "cell_type": "code",
   "execution_count": null,
   "id": "1fa7d8d8",
   "metadata": {},
   "outputs": [],
   "source": [
    "st_4_1.difference(st_4_2)"
   ]
  },
  {
   "cell_type": "code",
   "execution_count": null,
   "id": "466ec766",
   "metadata": {},
   "outputs": [],
   "source": [
    "st_4_2.difference(st_4_1)"
   ]
  },
  {
   "cell_type": "markdown",
   "id": "a9897124",
   "metadata": {},
   "source": [
    "**Diference between a set and another and delete the common elements in original set**"
   ]
  },
  {
   "cell_type": "code",
   "execution_count": null,
   "id": "a4dc3115",
   "metadata": {},
   "outputs": [],
   "source": [
    "st_4_1.difference_update(st_4_2)\n",
    "st_4_1"
   ]
  },
  {
   "cell_type": "markdown",
   "id": "d5042bc9",
   "metadata": {},
   "source": [
    "**Reload set**"
   ]
  },
  {
   "cell_type": "code",
   "execution_count": null,
   "id": "6d0c3d15",
   "metadata": {},
   "outputs": [],
   "source": [
    "st_4_1 = {'a', 'b', 'c', 'd'}\n",
    "st_4_1"
   ]
  },
  {
   "cell_type": "markdown",
   "id": "f9a03602",
   "metadata": {},
   "source": [
    "### Intersection and the opposite (conmutative)"
   ]
  },
  {
   "cell_type": "markdown",
   "id": "588c4990",
   "metadata": {},
   "source": [
    "**Intersection between a set and another**"
   ]
  },
  {
   "cell_type": "code",
   "execution_count": null,
   "id": "2d906078",
   "metadata": {},
   "outputs": [],
   "source": [
    "st_4_1.intersection(st_4_2)"
   ]
  },
  {
   "cell_type": "code",
   "execution_count": null,
   "id": "5ff4bbd9",
   "metadata": {},
   "outputs": [],
   "source": [
    "st_4_2.intersection(st_4_1)"
   ]
  },
  {
   "cell_type": "markdown",
   "id": "2d829ecb",
   "metadata": {},
   "source": [
    "**Intersection between a set and another and delete non common element in set**"
   ]
  },
  {
   "cell_type": "code",
   "execution_count": null,
   "id": "1202b2c4",
   "metadata": {},
   "outputs": [],
   "source": [
    "st_4_1.intersection_update(st_4_2)\n",
    "st_4_1"
   ]
  },
  {
   "cell_type": "markdown",
   "id": "c8625c19",
   "metadata": {},
   "source": [
    "**Reload set**"
   ]
  },
  {
   "cell_type": "code",
   "execution_count": null,
   "id": "b248fbb4",
   "metadata": {},
   "outputs": [],
   "source": [
    "st_4_1 = {'a', 'b', 'c', 'd'}\n",
    "st_4_1"
   ]
  },
  {
   "cell_type": "markdown",
   "id": "8bf6a923",
   "metadata": {},
   "source": [
    "**Elements that are not in the intersection between a set and another**"
   ]
  },
  {
   "cell_type": "code",
   "execution_count": null,
   "id": "3678fc5a",
   "metadata": {},
   "outputs": [],
   "source": [
    "st_4_1.symmetric_difference(st_4_2)"
   ]
  },
  {
   "cell_type": "markdown",
   "id": "f8a8b799",
   "metadata": {},
   "source": [
    "**Elements that are not in the intersection between a set and another and delete common element in set**"
   ]
  },
  {
   "cell_type": "code",
   "execution_count": null,
   "id": "89f2966e",
   "metadata": {},
   "outputs": [],
   "source": [
    "st_4_1.symmetric_difference_update(st_4_2)"
   ]
  },
  {
   "cell_type": "code",
   "execution_count": null,
   "id": "565daa74",
   "metadata": {},
   "outputs": [],
   "source": [
    "st_4_1"
   ]
  },
  {
   "cell_type": "markdown",
   "id": "294b3daa",
   "metadata": {},
   "source": [
    "**Reload set**"
   ]
  },
  {
   "cell_type": "code",
   "execution_count": null,
   "id": "65a137e5",
   "metadata": {},
   "outputs": [],
   "source": [
    "st_4_1 = {'a', 'b', 'c', 'd'}\n",
    "st_4_1"
   ]
  },
  {
   "cell_type": "markdown",
   "id": "1cc44842",
   "metadata": {},
   "source": [
    "### Union (conmutative)"
   ]
  },
  {
   "cell_type": "markdown",
   "id": "2bb51c57",
   "metadata": {},
   "source": [
    "**Union of sets**"
   ]
  },
  {
   "cell_type": "code",
   "execution_count": null,
   "id": "f5384813",
   "metadata": {},
   "outputs": [],
   "source": [
    "st_4_1.union(st_4_2)"
   ]
  },
  {
   "cell_type": "code",
   "execution_count": null,
   "id": "7e2e643b",
   "metadata": {},
   "outputs": [],
   "source": [
    "st_4_2.union(st_4_1)"
   ]
  },
  {
   "cell_type": "markdown",
   "id": "b55aeb88",
   "metadata": {},
   "source": [
    "**Union of sets and update the original set**"
   ]
  },
  {
   "cell_type": "code",
   "execution_count": null,
   "id": "03124d07",
   "metadata": {},
   "outputs": [],
   "source": [
    "st_4_1.update(st_4_2)\n",
    "st_4_1"
   ]
  },
  {
   "cell_type": "markdown",
   "id": "697d7df2",
   "metadata": {},
   "source": [
    "**Reload set**"
   ]
  },
  {
   "cell_type": "code",
   "execution_count": null,
   "id": "068c21a6",
   "metadata": {},
   "outputs": [],
   "source": [
    "st_4_1 = {'a', 'b', 'c', 'd'}\n",
    "st_4_1"
   ]
  },
  {
   "cell_type": "markdown",
   "id": "be07606a",
   "metadata": {},
   "source": [
    "### Disjoint or subset"
   ]
  },
  {
   "cell_type": "markdown",
   "id": "c8eddc62",
   "metadata": {},
   "source": [
    "**Elements in common:  not disjoint**"
   ]
  },
  {
   "cell_type": "code",
   "execution_count": null,
   "id": "3d57b9a3",
   "metadata": {},
   "outputs": [],
   "source": [
    "st_4_1.isdisjoint(st_4_2)"
   ]
  },
  {
   "cell_type": "markdown",
   "id": "f28f7af0",
   "metadata": {},
   "source": [
    "**Al elements inside: is subset**"
   ]
  },
  {
   "cell_type": "code",
   "execution_count": null,
   "id": "d6870b82",
   "metadata": {},
   "outputs": [],
   "source": [
    "{'a','b'}.issubset(st_4_1)"
   ]
  }
 ],
 "metadata": {
  "kernelspec": {
   "display_name": "Python 3",
   "language": "python",
   "name": "python3"
  },
  "language_info": {
   "codemirror_mode": {
    "name": "ipython",
    "version": 3
   },
   "file_extension": ".py",
   "mimetype": "text/x-python",
   "name": "python",
   "nbconvert_exporter": "python",
   "pygments_lexer": "ipython3",
   "version": "3.8.8"
  }
 },
 "nbformat": 4,
 "nbformat_minor": 5
}
