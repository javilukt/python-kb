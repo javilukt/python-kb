{
 "cells": [
  {
   "cell_type": "code",
   "execution_count": 5,
   "id": "303200b2",
   "metadata": {},
   "outputs": [
    {
     "data": {
      "text/html": [
       "<style>\n",
       "    table {margin-left: 0 !important;}\n",
       "    h1 {border: 2px solid; background: grey; padding: 10px 5px 5px 5px; color: white !important;}\n",
       "    h2 {border: 2px solid; background: #ddd; padding: 10px 5px 5px 5px; color: orange !important;}\n",
       "    h3 {border: 2px solid; background: blue; padding: 10px 5px 5px 5px; color: orange !important;}\n",
       "        \n",
       "</style>\n"
      ],
      "text/plain": [
       "<IPython.core.display.HTML object>"
      ]
     },
     "metadata": {},
     "output_type": "display_data"
    }
   ],
   "source": [
    "%%html\n",
    "<style>\n",
    "    table {margin-left: 0 !important;}\n",
    "    h1 {border: 2px solid; background: grey; padding: 10px 5px 5px 5px; color: white !important;}\n",
    "    h2 {border: 2px solid; background: #ddd; padding: 10px 5px 5px 5px; color: orange !important;}\n",
    "    h3 {border: 2px solid; background: blue; padding: 10px 5px 5px 5px; color: orange !important;}\n",
    "        \n",
    "</style>"
   ]
  },
  {
   "cell_type": "markdown",
   "id": "daa4cd93",
   "metadata": {},
   "source": [
    "# Lists"
   ]
  },
  {
   "cell_type": "markdown",
   "id": "cd8a5c62",
   "metadata": {},
   "source": [
    "**Lists** are used to store multiple items in a single variable.\n",
    "\n",
    "**Features**:\n",
    "- [x] Ordered\n",
    "- [x] Changeable\n",
    "- [x] Allow duplicate values\n",
    "- [ ] Homogeneous\n",
    "\n",
    "**Index** is always a sequence of positive int numbers starting on 0."
   ]
  },
  {
   "cell_type": "markdown",
   "id": "059ffa9b",
   "metadata": {},
   "source": [
    "## Creation"
   ]
  },
  {
   "cell_type": "markdown",
   "id": "cb5d3210",
   "metadata": {},
   "source": [
    "**lst_0**: empty list\n",
    "\n",
    "\n",
    "**lst_1**: heterogeneous list\n",
    "\n",
    "|  index | values |\n",
    "|--------|:------:|\n",
    "| 0      | 'a'    |\n",
    "| 1      | 'one'  |\n",
    "| 2      | 1      |\n",
    "| 3      | True   |\n",
    "| 4      | 3.5    |\n",
    "\n",
    "**lst_1_1**: list to be referred in another list\n",
    "\n",
    "|  index | values |\n",
    "|--------|:------:|\n",
    "| 0      | True   |\n",
    "| 1      | False  |\n",
    "\n",
    "**lst_1_2**: list as a list element\n",
    "\n",
    "|  index | values  |\n",
    "|--------|:-------:|\n",
    "| 0      | 'a'     |\n",
    "| 1      | lst_1_1 |\n",
    "\n",
    "**lst_1_3**: int list\n",
    "\n",
    "|  index | values |\n",
    "|--------|:------:|\n",
    "| 0      | 7      |\n",
    "| 1      | 4      |\n",
    "| 2      | 1      |\n",
    "| 3      | 9      |\n",
    "| 4      | 2      |\n"
   ]
  },
  {
   "cell_type": "markdown",
   "id": "3d066d21",
   "metadata": {},
   "source": [
    "**lst_0 construction (empty)**"
   ]
  },
  {
   "cell_type": "code",
   "execution_count": 2,
   "id": "54774446",
   "metadata": {},
   "outputs": [
    {
     "data": {
      "text/plain": [
       "[]"
      ]
     },
     "execution_count": 2,
     "metadata": {},
     "output_type": "execute_result"
    }
   ],
   "source": [
    "lst_0 = []\n",
    "lst_0"
   ]
  },
  {
   "cell_type": "markdown",
   "id": "c28f4161",
   "metadata": {},
   "source": [
    "or"
   ]
  },
  {
   "cell_type": "code",
   "execution_count": 4,
   "id": "c7d27ebb",
   "metadata": {},
   "outputs": [
    {
     "data": {
      "text/plain": [
       "[]"
      ]
     },
     "execution_count": 4,
     "metadata": {},
     "output_type": "execute_result"
    }
   ],
   "source": [
    "lst_0 = list()\n",
    "lst_0"
   ]
  },
  {
   "cell_type": "markdown",
   "id": "031b6f8c",
   "metadata": {},
   "source": [
    "**lst_1 construction**"
   ]
  },
  {
   "cell_type": "code",
   "execution_count": 10,
   "id": "6b438e41",
   "metadata": {},
   "outputs": [
    {
     "data": {
      "text/plain": [
       "['a', 'one', 1, True, 3.5]"
      ]
     },
     "execution_count": 10,
     "metadata": {},
     "output_type": "execute_result"
    }
   ],
   "source": [
    "lst_1 = ['a', 'one', 1, True, 3.5]\n",
    "lst_1"
   ]
  },
  {
   "cell_type": "markdown",
   "id": "92c3e670",
   "metadata": {},
   "source": [
    "**Based on a tuple oder any iterable**"
   ]
  },
  {
   "cell_type": "code",
   "execution_count": 6,
   "id": "0c1144c5",
   "metadata": {},
   "outputs": [
    {
     "data": {
      "text/plain": [
       "['a', 'one', 1, True, 3.5]"
      ]
     },
     "execution_count": 6,
     "metadata": {},
     "output_type": "execute_result"
    }
   ],
   "source": [
    "lst_1 = list(('a', 'one', 1, True, 3.5))\n",
    "lst_1"
   ]
  },
  {
   "cell_type": "markdown",
   "id": "e2fc63ec",
   "metadata": {},
   "source": [
    "**Lists of lists**\n",
    "\n",
    "An element of a list could be another list"
   ]
  },
  {
   "cell_type": "code",
   "execution_count": 7,
   "id": "4d0f9709",
   "metadata": {},
   "outputs": [
    {
     "data": {
      "text/plain": [
       "[True, False]"
      ]
     },
     "execution_count": 7,
     "metadata": {},
     "output_type": "execute_result"
    }
   ],
   "source": [
    "lst_1_1 = [True, False]\n",
    "lst_1_1"
   ]
  },
  {
   "cell_type": "code",
   "execution_count": 8,
   "id": "30d2d3d7",
   "metadata": {},
   "outputs": [
    {
     "data": {
      "text/plain": [
       "['a', [True, False]]"
      ]
     },
     "execution_count": 8,
     "metadata": {},
     "output_type": "execute_result"
    }
   ],
   "source": [
    "lst_1_2 = ['a', lst_1_1]\n",
    "lst_1_2"
   ]
  },
  {
   "cell_type": "markdown",
   "id": "d79ad65c",
   "metadata": {},
   "source": [
    "### Utilities"
   ]
  },
  {
   "cell_type": "markdown",
   "id": "0fe26641",
   "metadata": {},
   "source": [
    "**Type**"
   ]
  },
  {
   "cell_type": "code",
   "execution_count": 61,
   "id": "37bcf560",
   "metadata": {
    "scrolled": true
   },
   "outputs": [
    {
     "data": {
      "text/plain": [
       "list"
      ]
     },
     "execution_count": 61,
     "metadata": {},
     "output_type": "execute_result"
    }
   ],
   "source": [
    "type(lst_0)"
   ]
  },
  {
   "cell_type": "markdown",
   "id": "ec53b587",
   "metadata": {},
   "source": [
    "**Number of elements**"
   ]
  },
  {
   "cell_type": "code",
   "execution_count": 60,
   "id": "2ff4ff56",
   "metadata": {
    "scrolled": true
   },
   "outputs": [
    {
     "data": {
      "text/plain": [
       "5"
      ]
     },
     "execution_count": 60,
     "metadata": {},
     "output_type": "execute_result"
    }
   ],
   "source": [
    "len(lst_1)"
   ]
  },
  {
   "cell_type": "markdown",
   "id": "390868d6",
   "metadata": {},
   "source": [
    "**Copy**"
   ]
  },
  {
   "cell_type": "code",
   "execution_count": 11,
   "id": "0713fe0a",
   "metadata": {
    "scrolled": true
   },
   "outputs": [
    {
     "data": {
      "text/plain": [
       "['a', 'one', 1, True, 3.5]"
      ]
     },
     "execution_count": 11,
     "metadata": {},
     "output_type": "execute_result"
    }
   ],
   "source": [
    "result = lst_1.copy()\n",
    "result"
   ]
  },
  {
   "cell_type": "markdown",
   "id": "511e0e35",
   "metadata": {},
   "source": [
    "**Count**\n",
    "\n",
    "Counts the frequency of an element in the list"
   ]
  },
  {
   "cell_type": "code",
   "execution_count": 13,
   "id": "3eb3fb1e",
   "metadata": {
    "scrolled": true
   },
   "outputs": [
    {
     "data": {
      "text/plain": [
       "2"
      ]
     },
     "execution_count": 13,
     "metadata": {},
     "output_type": "execute_result"
    }
   ],
   "source": [
    "lst_1.count(True)"
   ]
  },
  {
   "cell_type": "code",
   "execution_count": 13,
   "id": "83e60bdf",
   "metadata": {
    "scrolled": true
   },
   "outputs": [
    {
     "data": {
      "text/plain": [
       "2"
      ]
     },
     "execution_count": 13,
     "metadata": {},
     "output_type": "execute_result"
    }
   ],
   "source": [
    "lst_1.count(True)"
   ]
  },
  {
   "cell_type": "markdown",
   "id": "05d6c660",
   "metadata": {},
   "source": [
    "**Reverse**\n",
    "\n",
    "Revert elements ordert in the list"
   ]
  },
  {
   "cell_type": "code",
   "execution_count": 18,
   "id": "5de81c6b",
   "metadata": {},
   "outputs": [
    {
     "data": {
      "text/plain": [
       "[3.5, True, 1, 'one', 'a']"
      ]
     },
     "execution_count": 18,
     "metadata": {},
     "output_type": "execute_result"
    }
   ],
   "source": [
    "lst_1.reverse()\n",
    "lst_1"
   ]
  },
  {
   "cell_type": "markdown",
   "id": "37f3e523",
   "metadata": {},
   "source": [
    "**Sort**\n",
    "\n",
    "Order the list"
   ]
  },
  {
   "cell_type": "code",
   "execution_count": 21,
   "id": "665b32db",
   "metadata": {},
   "outputs": [
    {
     "data": {
      "text/plain": [
       "[1, 2, 4, 7, 9]"
      ]
     },
     "execution_count": 21,
     "metadata": {},
     "output_type": "execute_result"
    }
   ],
   "source": [
    "lst_1_3 = [7, 4, 1, 9, 2]\n",
    "lst_1_3.sort()\n",
    "lst_1_3"
   ]
  },
  {
   "cell_type": "code",
   "execution_count": 22,
   "id": "02017e9c",
   "metadata": {},
   "outputs": [
    {
     "data": {
      "text/plain": [
       "[9, 7, 4, 2, 1]"
      ]
     },
     "execution_count": 22,
     "metadata": {},
     "output_type": "execute_result"
    }
   ],
   "source": [
    "lst_1_3.sort(reverse = True)\n",
    "lst_1_3"
   ]
  },
  {
   "cell_type": "markdown",
   "id": "426f76a8",
   "metadata": {},
   "source": [
    "## Element(s) access - slicing"
   ]
  },
  {
   "cell_type": "markdown",
   "id": "8a2719b6",
   "metadata": {},
   "source": [
    "**lst_2**\n",
    "\n",
    "|  index | values |\n",
    "|--------|:------:|\n",
    "| 0      | 'a'    |\n",
    "| 1      | 'b'    |\n",
    "| 2      | 'c'    |\n",
    "| 3      | 'd'    |\n",
    "| 4      | 'e'    |"
   ]
  },
  {
   "cell_type": "code",
   "execution_count": 7,
   "id": "2a07e663",
   "metadata": {},
   "outputs": [
    {
     "data": {
      "text/plain": [
       "['a', 'b', 'c', 'd', 'e']"
      ]
     },
     "execution_count": 7,
     "metadata": {},
     "output_type": "execute_result"
    }
   ],
   "source": [
    "lst_2 = ['a', 'b', 'c', 'd', 'e']\n",
    "lst_2"
   ]
  },
  {
   "cell_type": "markdown",
   "id": "4933c2ba",
   "metadata": {},
   "source": [
    "### Individual element"
   ]
  },
  {
   "cell_type": "markdown",
   "id": "77a6e7d7",
   "metadata": {},
   "source": [
    "**1st element**"
   ]
  },
  {
   "cell_type": "code",
   "execution_count": 10,
   "id": "62d542da",
   "metadata": {},
   "outputs": [
    {
     "data": {
      "text/plain": [
       "'a'"
      ]
     },
     "execution_count": 10,
     "metadata": {},
     "output_type": "execute_result"
    }
   ],
   "source": [
    "lst_2[0]"
   ]
  },
  {
   "cell_type": "markdown",
   "id": "8a9ccddf",
   "metadata": {},
   "source": [
    "**3rd element**"
   ]
  },
  {
   "cell_type": "code",
   "execution_count": 11,
   "id": "591f8f1b",
   "metadata": {},
   "outputs": [
    {
     "data": {
      "text/plain": [
       "'c'"
      ]
     },
     "execution_count": 11,
     "metadata": {},
     "output_type": "execute_result"
    }
   ],
   "source": [
    "lst_2[2]"
   ]
  },
  {
   "cell_type": "markdown",
   "id": "66a98b89",
   "metadata": {},
   "source": [
    "**Last element**"
   ]
  },
  {
   "cell_type": "code",
   "execution_count": 12,
   "id": "67b99379",
   "metadata": {},
   "outputs": [
    {
     "data": {
      "text/plain": [
       "'e'"
      ]
     },
     "execution_count": 12,
     "metadata": {},
     "output_type": "execute_result"
    }
   ],
   "source": [
    "lst_2[-1]"
   ]
  },
  {
   "cell_type": "markdown",
   "id": "cb13ef58",
   "metadata": {},
   "source": [
    "**2nd last element**"
   ]
  },
  {
   "cell_type": "code",
   "execution_count": 13,
   "id": "808699bd",
   "metadata": {},
   "outputs": [
    {
     "data": {
      "text/plain": [
       "'d'"
      ]
     },
     "execution_count": 13,
     "metadata": {},
     "output_type": "execute_result"
    }
   ],
   "source": [
    "lst_2[-2]"
   ]
  },
  {
   "cell_type": "markdown",
   "id": "2dc2e78c",
   "metadata": {},
   "source": [
    "**Index of the 1st element with a value**"
   ]
  },
  {
   "cell_type": "code",
   "execution_count": 8,
   "id": "a08d1500",
   "metadata": {},
   "outputs": [
    {
     "data": {
      "text/plain": [
       "1"
      ]
     },
     "execution_count": 8,
     "metadata": {},
     "output_type": "execute_result"
    }
   ],
   "source": [
    "lst_2.index('b')"
   ]
  },
  {
   "cell_type": "markdown",
   "id": "51459073",
   "metadata": {},
   "source": [
    "### Group of elements - slacing"
   ]
  },
  {
   "cell_type": "markdown",
   "id": "6febb108",
   "metadata": {},
   "source": [
    "**1st 3 elements**"
   ]
  },
  {
   "cell_type": "code",
   "execution_count": 14,
   "id": "6fff8f37",
   "metadata": {},
   "outputs": [
    {
     "data": {
      "text/plain": [
       "['a', 'b', 'c']"
      ]
     },
     "execution_count": 14,
     "metadata": {},
     "output_type": "execute_result"
    }
   ],
   "source": [
    "lst_2[0:3]"
   ]
  },
  {
   "cell_type": "code",
   "execution_count": 15,
   "id": "216de219",
   "metadata": {},
   "outputs": [
    {
     "data": {
      "text/plain": [
       "['a', 'b', 'c']"
      ]
     },
     "execution_count": 15,
     "metadata": {},
     "output_type": "execute_result"
    }
   ],
   "source": [
    "lst_2[:3]"
   ]
  },
  {
   "cell_type": "markdown",
   "id": "e6bc3dd1",
   "metadata": {},
   "source": [
    "**Last 3 elements**"
   ]
  },
  {
   "cell_type": "code",
   "execution_count": 16,
   "id": "7a2d015d",
   "metadata": {},
   "outputs": [
    {
     "data": {
      "text/plain": [
       "['c', 'd', 'e']"
      ]
     },
     "execution_count": 16,
     "metadata": {},
     "output_type": "execute_result"
    }
   ],
   "source": [
    "lst_2[2:5]"
   ]
  },
  {
   "cell_type": "code",
   "execution_count": 17,
   "id": "6b570d6f",
   "metadata": {},
   "outputs": [
    {
     "data": {
      "text/plain": [
       "['c', 'd', 'e']"
      ]
     },
     "execution_count": 17,
     "metadata": {},
     "output_type": "execute_result"
    }
   ],
   "source": [
    "lst_2[2:]"
   ]
  },
  {
   "cell_type": "code",
   "execution_count": 18,
   "id": "e022cce3",
   "metadata": {},
   "outputs": [
    {
     "data": {
      "text/plain": [
       "['c', 'd', 'e']"
      ]
     },
     "execution_count": 18,
     "metadata": {},
     "output_type": "execute_result"
    }
   ],
   "source": [
    "lst_2[-3:]"
   ]
  },
  {
   "cell_type": "markdown",
   "id": "8c883370",
   "metadata": {},
   "source": [
    "**Elements 1 to 3**"
   ]
  },
  {
   "cell_type": "code",
   "execution_count": 19,
   "id": "8bd190d4",
   "metadata": {},
   "outputs": [
    {
     "data": {
      "text/plain": [
       "['b', 'c', 'd']"
      ]
     },
     "execution_count": 19,
     "metadata": {},
     "output_type": "execute_result"
    }
   ],
   "source": [
    "lst_2[1:4]"
   ]
  },
  {
   "cell_type": "markdown",
   "id": "2aeadb94",
   "metadata": {},
   "source": [
    "## Element(s) change"
   ]
  },
  {
   "cell_type": "markdown",
   "id": "e6be924b",
   "metadata": {},
   "source": [
    "**lst_3**\n",
    "\n",
    "|  index | values |\n",
    "|--------|:------:|\n",
    "| 0      | 'a'    |\n",
    "| 1      | 'b'    |\n",
    "| 2      | 'c'    |\n",
    "| 3      | 'd'    |\n",
    "| 4      | 'e'    |"
   ]
  },
  {
   "cell_type": "code",
   "execution_count": 20,
   "id": "ebbe3639",
   "metadata": {},
   "outputs": [
    {
     "data": {
      "text/plain": [
       "['a', 'b', 'c', 'd', 'e']"
      ]
     },
     "execution_count": 20,
     "metadata": {},
     "output_type": "execute_result"
    }
   ],
   "source": [
    "lst_3 = ['a', 'b', 'c', 'd', 'e']\n",
    "lst_3"
   ]
  },
  {
   "cell_type": "markdown",
   "id": "79a3bb02",
   "metadata": {},
   "source": [
    "### Individual element"
   ]
  },
  {
   "cell_type": "markdown",
   "id": "d6451fbf",
   "metadata": {},
   "source": [
    "**1st element**"
   ]
  },
  {
   "cell_type": "code",
   "execution_count": 21,
   "id": "d268e838",
   "metadata": {},
   "outputs": [
    {
     "data": {
      "text/plain": [
       "'A'"
      ]
     },
     "execution_count": 21,
     "metadata": {},
     "output_type": "execute_result"
    }
   ],
   "source": [
    "lst_3[0] = 'A'\n",
    "lst_3[0]"
   ]
  },
  {
   "cell_type": "markdown",
   "id": "0b9d55d8",
   "metadata": {},
   "source": [
    "**3rd element**"
   ]
  },
  {
   "cell_type": "code",
   "execution_count": 22,
   "id": "90d6958f",
   "metadata": {},
   "outputs": [
    {
     "data": {
      "text/plain": [
       "'C'"
      ]
     },
     "execution_count": 22,
     "metadata": {},
     "output_type": "execute_result"
    }
   ],
   "source": [
    "lst_3[2] = 'C'\n",
    "lst_3[2]"
   ]
  },
  {
   "cell_type": "markdown",
   "id": "946a61d0",
   "metadata": {},
   "source": [
    "**Last element**"
   ]
  },
  {
   "cell_type": "code",
   "execution_count": 23,
   "id": "dfecc1f3",
   "metadata": {},
   "outputs": [
    {
     "data": {
      "text/plain": [
       "'E'"
      ]
     },
     "execution_count": 23,
     "metadata": {},
     "output_type": "execute_result"
    }
   ],
   "source": [
    "lst_3[-1] = 'E'\n",
    "lst_3[-1]"
   ]
  },
  {
   "cell_type": "markdown",
   "id": "5bff5470",
   "metadata": {},
   "source": [
    "**2nd last element**"
   ]
  },
  {
   "cell_type": "code",
   "execution_count": 24,
   "id": "3cc1bc42",
   "metadata": {},
   "outputs": [
    {
     "data": {
      "text/plain": [
       "'D'"
      ]
     },
     "execution_count": 24,
     "metadata": {},
     "output_type": "execute_result"
    }
   ],
   "source": [
    "lst_3[-2] = 'D'\n",
    "lst_3[-2]"
   ]
  },
  {
   "cell_type": "code",
   "execution_count": 25,
   "id": "3d74b6f6",
   "metadata": {},
   "outputs": [
    {
     "data": {
      "text/plain": [
       "['A', 'b', 'C', 'D', 'E']"
      ]
     },
     "execution_count": 25,
     "metadata": {},
     "output_type": "execute_result"
    }
   ],
   "source": [
    "lst_3"
   ]
  },
  {
   "cell_type": "markdown",
   "id": "f4ccedf7",
   "metadata": {},
   "source": [
    "### Group of elements - slacing"
   ]
  },
  {
   "cell_type": "markdown",
   "id": "1df6a7c6",
   "metadata": {},
   "source": [
    "**1st 3 elements**"
   ]
  },
  {
   "cell_type": "code",
   "execution_count": 26,
   "id": "24f90deb",
   "metadata": {},
   "outputs": [
    {
     "data": {
      "text/plain": [
       "['AA', 'BB', 'CC']"
      ]
     },
     "execution_count": 26,
     "metadata": {},
     "output_type": "execute_result"
    }
   ],
   "source": [
    "lst_3[0:3] = ['AA','BB', 'CC']\n",
    "lst_3[0:3]"
   ]
  },
  {
   "cell_type": "code",
   "execution_count": 27,
   "id": "4c84c8a9",
   "metadata": {},
   "outputs": [
    {
     "data": {
      "text/plain": [
       "['AA', 'BB', 'CC']"
      ]
     },
     "execution_count": 27,
     "metadata": {},
     "output_type": "execute_result"
    }
   ],
   "source": [
    "lst_3[:3] = ['AA','BB', 'CC']\n",
    "lst_3[:3]"
   ]
  },
  {
   "cell_type": "markdown",
   "id": "9be91999",
   "metadata": {},
   "source": [
    "**Last 3 elements**"
   ]
  },
  {
   "cell_type": "code",
   "execution_count": 28,
   "id": "db9ba260",
   "metadata": {},
   "outputs": [
    {
     "data": {
      "text/plain": [
       "['CC', 'DD', 'EE']"
      ]
     },
     "execution_count": 28,
     "metadata": {},
     "output_type": "execute_result"
    }
   ],
   "source": [
    "lst_3[2:5] = ['CC','DD', 'EE']\n",
    "lst_3[2:5]"
   ]
  },
  {
   "cell_type": "code",
   "execution_count": 29,
   "id": "63f14557",
   "metadata": {},
   "outputs": [
    {
     "data": {
      "text/plain": [
       "['CC', 'DD', 'EE']"
      ]
     },
     "execution_count": 29,
     "metadata": {},
     "output_type": "execute_result"
    }
   ],
   "source": [
    "lst_3[2:] = ['CC','DD', 'EE']\n",
    "lst_3[2:]"
   ]
  },
  {
   "cell_type": "code",
   "execution_count": 30,
   "id": "49088b45",
   "metadata": {},
   "outputs": [
    {
     "data": {
      "text/plain": [
       "['CC', 'DD', 'EE']"
      ]
     },
     "execution_count": 30,
     "metadata": {},
     "output_type": "execute_result"
    }
   ],
   "source": [
    "lst_3[-3:] = ['CC','DD', 'EE']\n",
    "lst_3[-3:]"
   ]
  },
  {
   "cell_type": "markdown",
   "id": "aa8fcdd9",
   "metadata": {},
   "source": [
    "**Elements 1 to 3**"
   ]
  },
  {
   "cell_type": "code",
   "execution_count": 31,
   "id": "e4aa6eaa",
   "metadata": {},
   "outputs": [
    {
     "data": {
      "text/plain": [
       "['BB', 'CC', 'DD']"
      ]
     },
     "execution_count": 31,
     "metadata": {},
     "output_type": "execute_result"
    }
   ],
   "source": [
    "lst_3[1:4] = ['BB', 'CC','DD']\n",
    "lst_3[1:4]"
   ]
  },
  {
   "cell_type": "code",
   "execution_count": 32,
   "id": "ab94996e",
   "metadata": {},
   "outputs": [
    {
     "data": {
      "text/plain": [
       "['AA', 'BB', 'CC', 'DD', 'EE']"
      ]
     },
     "execution_count": 32,
     "metadata": {},
     "output_type": "execute_result"
    }
   ],
   "source": [
    "lst_3"
   ]
  },
  {
   "cell_type": "code",
   "execution_count": null,
   "id": "59c82a54",
   "metadata": {},
   "outputs": [],
   "source": []
  },
  {
   "cell_type": "markdown",
   "id": "993b4c91",
   "metadata": {},
   "source": [
    "## Add and delete element(s)"
   ]
  },
  {
   "cell_type": "markdown",
   "id": "944db6e0",
   "metadata": {},
   "source": [
    "**lst_4**\n",
    "\n",
    "|  index | values |\n",
    "|--------|:------:|\n",
    "| 0      | 'a'    |\n",
    "| 1      | 'a'    |\n",
    "| 2      | 'a'    |\n",
    "| 3      | 'a'    |\n",
    "| 4      | 'a'    |"
   ]
  },
  {
   "cell_type": "code",
   "execution_count": 33,
   "id": "1a6536a7",
   "metadata": {
    "scrolled": true
   },
   "outputs": [
    {
     "data": {
      "text/plain": [
       "['a', 'a', 'a', 'a', 'a']"
      ]
     },
     "execution_count": 33,
     "metadata": {},
     "output_type": "execute_result"
    }
   ],
   "source": [
    "lst_4 = ['a', 'a', 'a', 'a', 'a']\n",
    "lst_4"
   ]
  },
  {
   "cell_type": "markdown",
   "id": "6deaab08",
   "metadata": {},
   "source": [
    "### Adding elements"
   ]
  },
  {
   "cell_type": "markdown",
   "id": "54fc368b",
   "metadata": {},
   "source": [
    "**Add an 'A' in position 3 (index = 2)**"
   ]
  },
  {
   "cell_type": "code",
   "execution_count": 34,
   "id": "ae6b48bc",
   "metadata": {},
   "outputs": [
    {
     "data": {
      "text/plain": [
       "['a', 'a', 'A', 'a', 'a', 'a']"
      ]
     },
     "execution_count": 34,
     "metadata": {},
     "output_type": "execute_result"
    }
   ],
   "source": [
    "lst_4.insert(2,'A')\n",
    "lst_4"
   ]
  },
  {
   "cell_type": "markdown",
   "id": "fef9ad83",
   "metadata": {},
   "source": [
    "**Add an 'A' at the end of the list**"
   ]
  },
  {
   "cell_type": "code",
   "execution_count": 35,
   "id": "58c57042",
   "metadata": {},
   "outputs": [
    {
     "data": {
      "text/plain": [
       "['a', 'a', 'A', 'a', 'a', 'a', 'A']"
      ]
     },
     "execution_count": 35,
     "metadata": {},
     "output_type": "execute_result"
    }
   ],
   "source": [
    "lst_4.append('A')\n",
    "lst_4"
   ]
  },
  {
   "cell_type": "markdown",
   "id": "43f77cdd",
   "metadata": {},
   "source": [
    "### Deleting elements"
   ]
  },
  {
   "cell_type": "markdown",
   "id": "bba075f3",
   "metadata": {},
   "source": [
    "**Delete the element in position 3 (index = 2)**"
   ]
  },
  {
   "cell_type": "code",
   "execution_count": 36,
   "id": "5948c0e3",
   "metadata": {},
   "outputs": [
    {
     "data": {
      "text/plain": [
       "['a', 'a', 'a', 'a', 'a', 'A']"
      ]
     },
     "execution_count": 36,
     "metadata": {},
     "output_type": "execute_result"
    }
   ],
   "source": [
    "lst_4.pop(2)\n",
    "lst_4"
   ]
  },
  {
   "cell_type": "markdown",
   "id": "82606cbb",
   "metadata": {},
   "source": [
    "**Delete last element**"
   ]
  },
  {
   "cell_type": "code",
   "execution_count": 37,
   "id": "938b4a67",
   "metadata": {},
   "outputs": [
    {
     "data": {
      "text/plain": [
       "['a', 'a', 'a', 'a', 'a']"
      ]
     },
     "execution_count": 37,
     "metadata": {},
     "output_type": "execute_result"
    }
   ],
   "source": [
    "lst_4.pop()\n",
    "lst_4"
   ]
  },
  {
   "cell_type": "markdown",
   "id": "26db8d89",
   "metadata": {},
   "source": [
    "**Delete first 'a'**"
   ]
  },
  {
   "cell_type": "code",
   "execution_count": 38,
   "id": "0f0ff4d4",
   "metadata": {},
   "outputs": [
    {
     "data": {
      "text/plain": [
       "['a', 'a', 'a', 'a']"
      ]
     },
     "execution_count": 38,
     "metadata": {},
     "output_type": "execute_result"
    }
   ],
   "source": [
    "lst_4.remove('a')\n",
    "lst_4"
   ]
  },
  {
   "cell_type": "markdown",
   "id": "9d9ee45e",
   "metadata": {},
   "source": [
    "### Deleting lists"
   ]
  },
  {
   "cell_type": "markdown",
   "id": "fa7f6e31",
   "metadata": {},
   "source": [
    "**Diferencia entre limpiar y borrar**\n",
    "- clear: la deja vacía\n",
    "- del: deja de existir"
   ]
  },
  {
   "cell_type": "code",
   "execution_count": 39,
   "id": "061dbba0",
   "metadata": {},
   "outputs": [
    {
     "data": {
      "text/plain": [
       "[]"
      ]
     },
     "execution_count": 39,
     "metadata": {},
     "output_type": "execute_result"
    }
   ],
   "source": [
    "lst_4.clear()\n",
    "lst_4"
   ]
  },
  {
   "cell_type": "code",
   "execution_count": 40,
   "id": "c268e959",
   "metadata": {},
   "outputs": [],
   "source": [
    "del lst_4"
   ]
  },
  {
   "cell_type": "markdown",
   "id": "bc8f80fd",
   "metadata": {},
   "source": [
    "## Lists concatenation"
   ]
  },
  {
   "cell_type": "markdown",
   "id": "ee3d4b49",
   "metadata": {},
   "source": [
    "**lst_5_1**\n",
    "\n",
    "|  index | values |\n",
    "|--------|:------:|\n",
    "| 0      | 'a'    |\n",
    "| 1      | 'a'    |\n",
    "\n",
    "**lst_5_2**\n",
    "\n",
    "|  index | values |\n",
    "|--------|:------:|\n",
    "| 0      | 'b'    |\n",
    "| 1      | 'b'    |\n",
    "| 2      | 'b'    |"
   ]
  },
  {
   "cell_type": "code",
   "execution_count": 51,
   "id": "f0342bcf",
   "metadata": {
    "scrolled": true
   },
   "outputs": [
    {
     "data": {
      "text/plain": [
       "['a', 'a']"
      ]
     },
     "execution_count": 51,
     "metadata": {},
     "output_type": "execute_result"
    }
   ],
   "source": [
    "lst_5_1 = ['a', 'a']\n",
    "lst_5_1"
   ]
  },
  {
   "cell_type": "code",
   "execution_count": 52,
   "id": "9f36b269",
   "metadata": {
    "scrolled": true
   },
   "outputs": [
    {
     "data": {
      "text/plain": [
       "['b', 'b', 'b']"
      ]
     },
     "execution_count": 52,
     "metadata": {},
     "output_type": "execute_result"
    }
   ],
   "source": [
    "lst_5_2 = ['b', 'b', 'b']\n",
    "lst_5_2"
   ]
  },
  {
   "cell_type": "code",
   "execution_count": 53,
   "id": "1fa7d8d8",
   "metadata": {},
   "outputs": [
    {
     "data": {
      "text/plain": [
       "['a', 'a', 'b', 'b', 'b']"
      ]
     },
     "execution_count": 53,
     "metadata": {},
     "output_type": "execute_result"
    }
   ],
   "source": [
    "lst_5_1 + lst_5_2"
   ]
  },
  {
   "cell_type": "code",
   "execution_count": 54,
   "id": "2d906078",
   "metadata": {},
   "outputs": [
    {
     "data": {
      "text/plain": [
       "['a', 'a']"
      ]
     },
     "execution_count": 54,
     "metadata": {},
     "output_type": "execute_result"
    }
   ],
   "source": [
    "lst_5_1"
   ]
  },
  {
   "cell_type": "code",
   "execution_count": 55,
   "id": "5ff4bbd9",
   "metadata": {},
   "outputs": [
    {
     "data": {
      "text/plain": [
       "['b', 'b', 'b']"
      ]
     },
     "execution_count": 55,
     "metadata": {},
     "output_type": "execute_result"
    }
   ],
   "source": [
    "lst_5_2"
   ]
  },
  {
   "cell_type": "markdown",
   "id": "2bb51c57",
   "metadata": {},
   "source": [
    "**lists order in extend is important**"
   ]
  },
  {
   "cell_type": "code",
   "execution_count": 56,
   "id": "f5384813",
   "metadata": {},
   "outputs": [
    {
     "data": {
      "text/plain": [
       "['a', 'a', 'b', 'b', 'b']"
      ]
     },
     "execution_count": 56,
     "metadata": {},
     "output_type": "execute_result"
    }
   ],
   "source": [
    "lst_5_1.extend(lst_5_2)\n",
    "lst_5_1"
   ]
  },
  {
   "cell_type": "code",
   "execution_count": 57,
   "id": "7e2e643b",
   "metadata": {},
   "outputs": [
    {
     "data": {
      "text/plain": [
       "['b', 'b', 'b']"
      ]
     },
     "execution_count": 57,
     "metadata": {},
     "output_type": "execute_result"
    }
   ],
   "source": [
    "lst_5_2"
   ]
  },
  {
   "cell_type": "markdown",
   "id": "a42e0ece",
   "metadata": {},
   "source": [
    "## Utilities"
   ]
  }
 ],
 "metadata": {
  "kernelspec": {
   "display_name": "Python 3",
   "language": "python",
   "name": "python3"
  },
  "language_info": {
   "codemirror_mode": {
    "name": "ipython",
    "version": 3
   },
   "file_extension": ".py",
   "mimetype": "text/x-python",
   "name": "python",
   "nbconvert_exporter": "python",
   "pygments_lexer": "ipython3",
   "version": "3.8.8"
  }
 },
 "nbformat": 4,
 "nbformat_minor": 5
}
