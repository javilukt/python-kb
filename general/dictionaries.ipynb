{
 "cells": [
  {
   "cell_type": "code",
   "execution_count": 1,
   "id": "303200b2",
   "metadata": {},
   "outputs": [
    {
     "data": {
      "text/html": [
       "<style>\n",
       "    table {margin-left: 0 !important;}\n",
       "    h1 {border: 2px solid; background: grey; padding: 10px 5px 5px 5px; color: white !important;}\n",
       "    h2 {border: 2px solid; background: #ddd; padding: 10px 5px 5px 5px; color: orange !important;}\n",
       "    h3 {border: 2px solid; background: blue; padding: 10px 5px 5px 5px; color: orange !important;}\n",
       "        \n",
       "</style>\n"
      ],
      "text/plain": [
       "<IPython.core.display.HTML object>"
      ]
     },
     "metadata": {},
     "output_type": "display_data"
    }
   ],
   "source": [
    "%%html\n",
    "<style>\n",
    "    table {margin-left: 0 !important;}\n",
    "    h1 {border: 2px solid; background: grey; padding: 10px 5px 5px 5px; color: white !important;}\n",
    "    h2 {border: 2px solid; background: #ddd; padding: 10px 5px 5px 5px; color: orange !important;}\n",
    "    h3 {border: 2px solid; background: blue; padding: 10px 5px 5px 5px; color: orange !important;}\n",
    "        \n",
    "</style>"
   ]
  },
  {
   "cell_type": "markdown",
   "id": "daa4cd93",
   "metadata": {},
   "source": [
    "# DICTIONARIES"
   ]
  },
  {
   "cell_type": "markdown",
   "id": "cd8a5c62",
   "metadata": {},
   "source": [
    "**Dictionaries** Dictionaries are used to store data values in key:value pairs.\n",
    "\n",
    "**Features**:\n",
    "- [x] Ordered\n",
    "- [x] Changeable\n",
    "- [ ] Allow duplicate keys\n",
    "- [ ] Homogeneous\n",
    "\n",
    "**Key**: free style\n",
    "\n",
    "**Values** \n"
   ]
  },
  {
   "cell_type": "markdown",
   "id": "059ffa9b",
   "metadata": {},
   "source": [
    "## 1 Construction"
   ]
  },
  {
   "cell_type": "markdown",
   "id": "55931792",
   "metadata": {},
   "source": [
    "### 1.1 Empty dictionary construction"
   ]
  },
  {
   "cell_type": "markdown",
   "id": "3d066d21",
   "metadata": {},
   "source": [
    "**dict_0 construction (empty)**"
   ]
  },
  {
   "cell_type": "code",
   "execution_count": 2,
   "id": "54774446",
   "metadata": {},
   "outputs": [
    {
     "data": {
      "text/plain": [
       "{}"
      ]
     },
     "execution_count": 2,
     "metadata": {},
     "output_type": "execute_result"
    }
   ],
   "source": [
    "dict_0 = {}\n",
    "dict_0"
   ]
  },
  {
   "cell_type": "markdown",
   "id": "c28f4161",
   "metadata": {},
   "source": [
    "or"
   ]
  },
  {
   "cell_type": "code",
   "execution_count": 3,
   "id": "c7d27ebb",
   "metadata": {},
   "outputs": [
    {
     "data": {
      "text/plain": [
       "{}"
      ]
     },
     "execution_count": 3,
     "metadata": {},
     "output_type": "execute_result"
    }
   ],
   "source": [
    "dict_0 = dict()\n",
    "dict_0"
   ]
  },
  {
   "cell_type": "markdown",
   "id": "45ce59f5",
   "metadata": {},
   "source": [
    "### 1.2 Heterogeneous dictionary construction"
   ]
  },
  {
   "cell_type": "markdown",
   "id": "031b6f8c",
   "metadata": {},
   "source": [
    "**dict_1**\n",
    "\n",
    "|  index | values |\n",
    "|--------|:------:|\n",
    "| 'A'    | 'a'    |\n",
    "| 'C'    | 'one'  |\n",
    "| 'D'    | 1      |\n",
    "| 'E'    | True   |\n",
    "| 'B'    | 3.5    |"
   ]
  },
  {
   "cell_type": "code",
   "execution_count": 4,
   "id": "6b438e41",
   "metadata": {},
   "outputs": [
    {
     "data": {
      "text/plain": [
       "{'A': 'a', 'C': 'one', 'D': 1, 'E': True, 'B': 3.5}"
      ]
     },
     "execution_count": 4,
     "metadata": {},
     "output_type": "execute_result"
    }
   ],
   "source": [
    "dict_1 = {'A': 'a', 'C': 'one', 'D': 1, 'E': True, 'B': 3.5}\n",
    "dict_1"
   ]
  },
  {
   "cell_type": "markdown",
   "id": "92c3e670",
   "metadata": {},
   "source": [
    "Or based on a list or any iterable with tuples inside"
   ]
  },
  {
   "cell_type": "code",
   "execution_count": 5,
   "id": "0c1144c5",
   "metadata": {},
   "outputs": [
    {
     "data": {
      "text/plain": [
       "{'A': 'a', 'C': 'one', 'D': 1, 'E': True, 'B': 3.5}"
      ]
     },
     "execution_count": 5,
     "metadata": {},
     "output_type": "execute_result"
    }
   ],
   "source": [
    "dict_1 = dict([('A', 'a'), ('C', 'one'), ('D', 1), ('E', True), ('B', 3.5)])\n",
    "dict_1"
   ]
  },
  {
   "cell_type": "markdown",
   "id": "6ce74cf2",
   "metadata": {},
   "source": [
    "### 1.3 Nested dictionaries"
   ]
  },
  {
   "cell_type": "markdown",
   "id": "e2fc63ec",
   "metadata": {},
   "source": [
    "An element of a dictionary could be another dictionary\n",
    "\n",
    "**dict_1_1**: list to be referred in another list\n",
    "\n",
    "|  index | values |\n",
    "|--------|:------:|\n",
    "| 'a'    | True   |\n",
    "| 'b'    | False  |\n",
    "\n",
    "**dict_1_2**: list as a list element\n",
    "\n",
    "|  index | values   |\n",
    "|--------|:--------:|\n",
    "| 'a'    | 'a'      |\n",
    "| 'b'    | dict_1_1 |\n"
   ]
  },
  {
   "cell_type": "code",
   "execution_count": 6,
   "id": "4d0f9709",
   "metadata": {},
   "outputs": [
    {
     "data": {
      "text/plain": [
       "{'a': (True, True), 'b': (False, True)}"
      ]
     },
     "execution_count": 6,
     "metadata": {},
     "output_type": "execute_result"
    }
   ],
   "source": [
    "dict_1_1 = {'a': (True, True), 'b': (False, True)}\n",
    "dict_1_1"
   ]
  },
  {
   "cell_type": "code",
   "execution_count": 7,
   "id": "30d2d3d7",
   "metadata": {},
   "outputs": [
    {
     "data": {
      "text/plain": [
       "{'a': 'a', 'b': {'a': (True, True), 'b': (False, True)}}"
      ]
     },
     "execution_count": 7,
     "metadata": {},
     "output_type": "execute_result"
    }
   ],
   "source": [
    "dict_1_2 = {'a': 'a', 'b': dict_1_1}\n",
    "dict_1_2"
   ]
  },
  {
   "cell_type": "markdown",
   "id": "2abfab55",
   "metadata": {},
   "source": [
    "### 1.4 From keys"
   ]
  },
  {
   "cell_type": "code",
   "execution_count": 8,
   "id": "ca7d07c4",
   "metadata": {},
   "outputs": [
    {
     "data": {
      "text/plain": [
       "{1: 0, 3: 0, 5: 0}"
      ]
     },
     "execution_count": 8,
     "metadata": {},
     "output_type": "execute_result"
    }
   ],
   "source": [
    "keys = (1, 3, 5)\n",
    "values = 0\n",
    "dict_1_3 = dict.fromkeys(keys, values)\n",
    "dict_1_3"
   ]
  },
  {
   "cell_type": "code",
   "execution_count": 9,
   "id": "e05795a8",
   "metadata": {},
   "outputs": [
    {
     "data": {
      "text/plain": [
       "{1: ('one', 'two'), 3: ('one', 'two'), 5: ('one', 'two')}"
      ]
     },
     "execution_count": 9,
     "metadata": {},
     "output_type": "execute_result"
    }
   ],
   "source": [
    "keys = (1, 3, 5)\n",
    "values = ('one', 'two')\n",
    "dict_1_3 = dict.fromkeys(keys, values)\n",
    "dict_1_3"
   ]
  },
  {
   "cell_type": "code",
   "execution_count": 10,
   "id": "ce043cc9",
   "metadata": {},
   "outputs": [
    {
     "data": {
      "text/plain": [
       "{1: None, 3: None, 5: None}"
      ]
     },
     "execution_count": 10,
     "metadata": {},
     "output_type": "execute_result"
    }
   ],
   "source": [
    "keys = (1, 3, 5)\n",
    "dict_1_3 = dict.fromkeys(keys)\n",
    "dict_1_3"
   ]
  },
  {
   "cell_type": "markdown",
   "id": "00402ea3",
   "metadata": {},
   "source": [
    "### 1.5 Utilities"
   ]
  },
  {
   "cell_type": "markdown",
   "id": "11e53821",
   "metadata": {},
   "source": [
    "**Type**"
   ]
  },
  {
   "cell_type": "code",
   "execution_count": 11,
   "id": "37bcf560",
   "metadata": {
    "scrolled": true
   },
   "outputs": [
    {
     "data": {
      "text/plain": [
       "dict"
      ]
     },
     "execution_count": 11,
     "metadata": {},
     "output_type": "execute_result"
    }
   ],
   "source": [
    "type(dict_0)"
   ]
  },
  {
   "cell_type": "markdown",
   "id": "ec53b587",
   "metadata": {},
   "source": [
    "**Number of elements**"
   ]
  },
  {
   "cell_type": "code",
   "execution_count": 12,
   "id": "2ff4ff56",
   "metadata": {
    "scrolled": true
   },
   "outputs": [
    {
     "data": {
      "text/plain": [
       "5"
      ]
     },
     "execution_count": 12,
     "metadata": {},
     "output_type": "execute_result"
    }
   ],
   "source": [
    "len(dict_1)"
   ]
  },
  {
   "cell_type": "markdown",
   "id": "05bc06d1",
   "metadata": {},
   "source": [
    "**Copy**"
   ]
  },
  {
   "cell_type": "code",
   "execution_count": 13,
   "id": "b9ae4b52",
   "metadata": {
    "scrolled": true
   },
   "outputs": [
    {
     "data": {
      "text/plain": [
       "{'A': 'a', 'C': 'one', 'D': 1, 'E': True, 'B': 3.5}"
      ]
     },
     "execution_count": 13,
     "metadata": {},
     "output_type": "execute_result"
    }
   ],
   "source": [
    "result = dict_1.copy()\n",
    "result"
   ]
  },
  {
   "cell_type": "markdown",
   "id": "426f76a8",
   "metadata": {},
   "source": [
    "## 2 Element(s) access"
   ]
  },
  {
   "cell_type": "markdown",
   "id": "8a2719b6",
   "metadata": {},
   "source": [
    "**dict_2**\n",
    "\n",
    "|  index | values | values |\n",
    "|:------:|:------:|:------:|\n",
    "| 0      | 'a'    | 'A'    |\n",
    "| 10     | 'b'    | 'B'    |\n",
    "| 20     | 'c'    | 'C'    |\n",
    "| 30     | 'd'    | 'D'    |\n",
    "| 40     | 'e'    | 'E'    |"
   ]
  },
  {
   "cell_type": "code",
   "execution_count": 14,
   "id": "2a07e663",
   "metadata": {},
   "outputs": [
    {
     "data": {
      "text/plain": [
       "{0: ('a', 'a'), 10: ('b', 'B'), 20: ('c', 'C'), 30: ('d', 'D'), 40: ('e', 'E')}"
      ]
     },
     "execution_count": 14,
     "metadata": {},
     "output_type": "execute_result"
    }
   ],
   "source": [
    "dict_2 = {0: ('a', 'a'), 10: ('b', 'B'), 20: ('c', 'C'), 30: ('d', 'D'), 40: ('e', 'E')}\n",
    "dict_2"
   ]
  },
  {
   "cell_type": "markdown",
   "id": "4933c2ba",
   "metadata": {},
   "source": [
    "### 2.1 Individual element"
   ]
  },
  {
   "cell_type": "markdown",
   "id": "77a6e7d7",
   "metadata": {},
   "source": [
    "**Element with index 10**"
   ]
  },
  {
   "cell_type": "code",
   "execution_count": 15,
   "id": "62d542da",
   "metadata": {},
   "outputs": [
    {
     "data": {
      "text/plain": [
       "('b', 'B')"
      ]
     },
     "execution_count": 15,
     "metadata": {},
     "output_type": "execute_result"
    }
   ],
   "source": [
    "dict_2[10]"
   ]
  },
  {
   "cell_type": "code",
   "execution_count": 16,
   "id": "e0505853",
   "metadata": {},
   "outputs": [
    {
     "data": {
      "text/plain": [
       "('b', 'B')"
      ]
     },
     "execution_count": 16,
     "metadata": {},
     "output_type": "execute_result"
    }
   ],
   "source": [
    "dict_2.get(10)"
   ]
  },
  {
   "cell_type": "markdown",
   "id": "8a9ccddf",
   "metadata": {},
   "source": [
    "**Element with index 40**"
   ]
  },
  {
   "cell_type": "code",
   "execution_count": 17,
   "id": "591f8f1b",
   "metadata": {},
   "outputs": [
    {
     "data": {
      "text/plain": [
       "('e', 'E')"
      ]
     },
     "execution_count": 17,
     "metadata": {},
     "output_type": "execute_result"
    }
   ],
   "source": [
    "dict_2[40]"
   ]
  },
  {
   "cell_type": "code",
   "execution_count": 18,
   "id": "e2c2b61e",
   "metadata": {},
   "outputs": [
    {
     "data": {
      "text/plain": [
       "('e', 'E')"
      ]
     },
     "execution_count": 18,
     "metadata": {},
     "output_type": "execute_result"
    }
   ],
   "source": [
    "dict_2.get(40)"
   ]
  },
  {
   "cell_type": "markdown",
   "id": "51459073",
   "metadata": {},
   "source": [
    "### 2.2 Get all elements"
   ]
  },
  {
   "cell_type": "markdown",
   "id": "6febb108",
   "metadata": {},
   "source": [
    "**keys**"
   ]
  },
  {
   "cell_type": "code",
   "execution_count": 19,
   "id": "6fff8f37",
   "metadata": {},
   "outputs": [
    {
     "data": {
      "text/plain": [
       "dict_keys([0, 10, 20, 30, 40])"
      ]
     },
     "execution_count": 19,
     "metadata": {},
     "output_type": "execute_result"
    }
   ],
   "source": [
    "dict_2.keys()"
   ]
  },
  {
   "cell_type": "markdown",
   "id": "e6bc3dd1",
   "metadata": {},
   "source": [
    "**values**"
   ]
  },
  {
   "cell_type": "code",
   "execution_count": 20,
   "id": "7a2d015d",
   "metadata": {},
   "outputs": [
    {
     "data": {
      "text/plain": [
       "dict_values([('a', 'a'), ('b', 'B'), ('c', 'C'), ('d', 'D'), ('e', 'E')])"
      ]
     },
     "execution_count": 20,
     "metadata": {},
     "output_type": "execute_result"
    }
   ],
   "source": [
    "dict_2.values()"
   ]
  },
  {
   "cell_type": "markdown",
   "id": "8c883370",
   "metadata": {},
   "source": [
    "**items**"
   ]
  },
  {
   "cell_type": "code",
   "execution_count": 21,
   "id": "8bd190d4",
   "metadata": {},
   "outputs": [
    {
     "data": {
      "text/plain": [
       "dict_items([(0, ('a', 'a')), (10, ('b', 'B')), (20, ('c', 'C')), (30, ('d', 'D')), (40, ('e', 'E'))])"
      ]
     },
     "execution_count": 21,
     "metadata": {},
     "output_type": "execute_result"
    }
   ],
   "source": [
    "dict_2.items()"
   ]
  },
  {
   "cell_type": "markdown",
   "id": "993b4c91",
   "metadata": {},
   "source": [
    "## 3 Add, update and delete element(s)"
   ]
  },
  {
   "cell_type": "markdown",
   "id": "944db6e0",
   "metadata": {},
   "source": [
    "**dict_3**\n",
    "\n",
    "|  index | values |\n",
    "|--------|:------:|\n",
    "| 10     | 'a'    |\n",
    "| 20     | 'b'    |\n",
    "| 30     | 'c'    |\n",
    "| 40     | 'd'    |\n",
    "| 50     | 'e'    |"
   ]
  },
  {
   "cell_type": "code",
   "execution_count": 22,
   "id": "1a6536a7",
   "metadata": {
    "scrolled": true
   },
   "outputs": [
    {
     "data": {
      "text/plain": [
       "{10: 'a', 20: 'b', 30: 'c', 40: 'd', 50: 'e'}"
      ]
     },
     "execution_count": 22,
     "metadata": {},
     "output_type": "execute_result"
    }
   ],
   "source": [
    "dict_3 = {10: 'a', 20: 'b', 30: 'c', 40: 'd', 50: 'e'}\n",
    "dict_3"
   ]
  },
  {
   "cell_type": "markdown",
   "id": "6deaab08",
   "metadata": {},
   "source": [
    "### 3.1 Adding / updating elements"
   ]
  },
  {
   "cell_type": "markdown",
   "id": "54fc368b",
   "metadata": {},
   "source": [
    "**Add an 'f' with key 60**"
   ]
  },
  {
   "cell_type": "code",
   "execution_count": 23,
   "id": "ae6b48bc",
   "metadata": {},
   "outputs": [
    {
     "data": {
      "text/plain": [
       "{10: 'a', 20: 'b', 30: 'c', 40: 'd', 50: 'e', 60: 'f'}"
      ]
     },
     "execution_count": 23,
     "metadata": {},
     "output_type": "execute_result"
    }
   ],
   "source": [
    "dict_3.update({60: 'f'})\n",
    "dict_3"
   ]
  },
  {
   "cell_type": "markdown",
   "id": "fef9ad83",
   "metadata": {},
   "source": [
    "**Add an 'B' with key 20**"
   ]
  },
  {
   "cell_type": "code",
   "execution_count": 24,
   "id": "58c57042",
   "metadata": {},
   "outputs": [
    {
     "data": {
      "text/plain": [
       "{10: 'a', 20: 'B', 30: 'c', 40: 'd', 50: 'e', 60: 'f'}"
      ]
     },
     "execution_count": 24,
     "metadata": {},
     "output_type": "execute_result"
    }
   ],
   "source": [
    "dict_3.update({20: 'B'})\n",
    "dict_3"
   ]
  },
  {
   "cell_type": "markdown",
   "id": "907e2e97",
   "metadata": {},
   "source": [
    "**Returns the value of the item with the specified key**\n",
    "\n",
    "If the key does not exist, insert the key, with the specified value"
   ]
  },
  {
   "cell_type": "code",
   "execution_count": 25,
   "id": "054ff84c",
   "metadata": {},
   "outputs": [
    {
     "data": {
      "text/plain": [
       "'B'"
      ]
     },
     "execution_count": 25,
     "metadata": {},
     "output_type": "execute_result"
    }
   ],
   "source": [
    "dict_3.setdefault(20, 'B')"
   ]
  },
  {
   "cell_type": "code",
   "execution_count": 26,
   "id": "170a5143",
   "metadata": {},
   "outputs": [
    {
     "data": {
      "text/plain": [
       "'B'"
      ]
     },
     "execution_count": 26,
     "metadata": {},
     "output_type": "execute_result"
    }
   ],
   "source": [
    "dict_3.setdefault(20, 'C')"
   ]
  },
  {
   "cell_type": "code",
   "execution_count": 27,
   "id": "8e732883",
   "metadata": {},
   "outputs": [
    {
     "data": {
      "text/plain": [
       "'X'"
      ]
     },
     "execution_count": 27,
     "metadata": {},
     "output_type": "execute_result"
    }
   ],
   "source": [
    "dict_3.setdefault(200, 'X')"
   ]
  },
  {
   "cell_type": "markdown",
   "id": "43f77cdd",
   "metadata": {},
   "source": [
    "### 3.2 Deleting elements"
   ]
  },
  {
   "cell_type": "markdown",
   "id": "bba075f3",
   "metadata": {},
   "source": [
    "**Delete the element with key 20**"
   ]
  },
  {
   "cell_type": "code",
   "execution_count": 28,
   "id": "5948c0e3",
   "metadata": {},
   "outputs": [
    {
     "data": {
      "text/plain": [
       "{10: 'a', 30: 'c', 40: 'd', 50: 'e', 60: 'f', 200: 'X'}"
      ]
     },
     "execution_count": 28,
     "metadata": {},
     "output_type": "execute_result"
    }
   ],
   "source": [
    "dict_3.pop(20)\n",
    "dict_3"
   ]
  },
  {
   "cell_type": "markdown",
   "id": "17f3b2ff",
   "metadata": {},
   "source": [
    "**Delete the element with key 100 - do not exist**"
   ]
  },
  {
   "cell_type": "code",
   "execution_count": 29,
   "id": "a98923b8",
   "metadata": {},
   "outputs": [
    {
     "data": {
      "text/plain": [
       "'Error'"
      ]
     },
     "execution_count": 29,
     "metadata": {},
     "output_type": "execute_result"
    }
   ],
   "source": [
    "dict_3.pop(100, 'Error')"
   ]
  },
  {
   "cell_type": "code",
   "execution_count": 30,
   "id": "e7214464",
   "metadata": {},
   "outputs": [
    {
     "ename": "KeyError",
     "evalue": "100",
     "output_type": "error",
     "traceback": [
      "\u001b[0;31m---------------------------------------------------------------------------\u001b[0m",
      "\u001b[0;31mKeyError\u001b[0m                                  Traceback (most recent call last)",
      "\u001b[0;32m<ipython-input-30-242fd9d34d35>\u001b[0m in \u001b[0;36m<module>\u001b[0;34m\u001b[0m\n\u001b[0;32m----> 1\u001b[0;31m \u001b[0mdict_3\u001b[0m\u001b[0;34m.\u001b[0m\u001b[0mpop\u001b[0m\u001b[0;34m(\u001b[0m\u001b[0;36m100\u001b[0m\u001b[0;34m)\u001b[0m\u001b[0;34m\u001b[0m\u001b[0;34m\u001b[0m\u001b[0m\n\u001b[0m",
      "\u001b[0;31mKeyError\u001b[0m: 100"
     ]
    }
   ],
   "source": [
    "dict_3.pop(100)"
   ]
  },
  {
   "cell_type": "markdown",
   "id": "82606cbb",
   "metadata": {},
   "source": [
    "**Delete last element**"
   ]
  },
  {
   "cell_type": "code",
   "execution_count": null,
   "id": "938b4a67",
   "metadata": {},
   "outputs": [],
   "source": [
    "dict_3.popitem()\n",
    "dict_3"
   ]
  },
  {
   "cell_type": "markdown",
   "id": "9d9ee45e",
   "metadata": {},
   "source": [
    "### 3.3 Deleting dictionaries"
   ]
  },
  {
   "cell_type": "markdown",
   "id": "fa7f6e31",
   "metadata": {},
   "source": [
    "**Diferences between clear and del**\n",
    "- clear: dictionary empty\n",
    "- del: dictionary does not exist anymore"
   ]
  },
  {
   "cell_type": "code",
   "execution_count": null,
   "id": "061dbba0",
   "metadata": {},
   "outputs": [],
   "source": [
    "dict_3.clear()\n",
    "dict_3"
   ]
  },
  {
   "cell_type": "code",
   "execution_count": null,
   "id": "c268e959",
   "metadata": {},
   "outputs": [],
   "source": [
    "del dict_3"
   ]
  }
 ],
 "metadata": {
  "kernelspec": {
   "display_name": "Python 3",
   "language": "python",
   "name": "python3"
  },
  "language_info": {
   "codemirror_mode": {
    "name": "ipython",
    "version": 3
   },
   "file_extension": ".py",
   "mimetype": "text/x-python",
   "name": "python",
   "nbconvert_exporter": "python",
   "pygments_lexer": "ipython3",
   "version": "3.8.8"
  }
 },
 "nbformat": 4,
 "nbformat_minor": 5
}
